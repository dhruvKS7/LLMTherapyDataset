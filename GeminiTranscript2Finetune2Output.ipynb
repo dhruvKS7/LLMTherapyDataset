{
  "cells": [
    {
      "cell_type": "markdown",
      "metadata": {
        "id": "sdF7SWsr4wFB"
      },
      "source": [
        "# Installations + Google Drive"
      ]
    },
    {
      "cell_type": "code",
      "execution_count": null,
      "metadata": {
        "colab": {
          "base_uri": "https://localhost:8080/"
        },
        "id": "lbcrr9TyWkKc",
        "outputId": "54524a3f-2755-49ff-f9c4-28381562a786"
      },
      "outputs": [
        {
          "name": "stdout",
          "output_type": "stream",
          "text": [
            "Collecting PyPDF2\n",
            "  Downloading pypdf2-3.0.1-py3-none-any.whl.metadata (6.8 kB)\n",
            "Downloading pypdf2-3.0.1-py3-none-any.whl (232 kB)\n",
            "\u001b[2K   \u001b[90m━━━━━━━━━━━━━━━━━━━━━━━━━━━━━━━━━━━━━━━━\u001b[0m \u001b[32m232.6/232.6 kB\u001b[0m \u001b[31m3.8 MB/s\u001b[0m eta \u001b[36m0:00:00\u001b[0m\n",
            "\u001b[?25hInstalling collected packages: PyPDF2\n",
            "Successfully installed PyPDF2-3.0.1\n"
          ]
        }
      ],
      "source": [
        "!pip install PyPDF2"
      ]
    },
    {
      "cell_type": "code",
      "execution_count": null,
      "metadata": {
        "colab": {
          "base_uri": "https://localhost:8080/"
        },
        "id": "TNUUECqR1IjF",
        "outputId": "b0c3af3c-5f4b-4f82-ea25-c2e4d7fad8f9"
      },
      "outputs": [
        {
          "name": "stdout",
          "output_type": "stream",
          "text": [
            "Mounted at /content/drive\n"
          ]
        }
      ],
      "source": [
        "from google.colab import drive\n",
        "drive.mount('/content/drive', force_remount=True)"
      ]
    },
    {
      "cell_type": "code",
      "execution_count": null,
      "metadata": {
        "colab": {
          "base_uri": "https://localhost:8080/"
        },
        "id": "0cYh_cjF1knX",
        "outputId": "2a29cc1e-780c-4e9b-975f-9b3e865828bf"
      },
      "outputs": [
        {
          "name": "stdout",
          "output_type": "stream",
          "text": [
            "/content/drive/My Drive/CS568/568_Final_Project\n"
          ]
        }
      ],
      "source": [
        "import os\n",
        "datadir = \"/content/drive/My Drive/CS568/568_Final_Project\"\n",
        "os.chdir(datadir)\n",
        "!pwd"
      ]
    },
    {
      "cell_type": "markdown",
      "metadata": {
        "id": "j1uMF2lcJPgM"
      },
      "source": [
        "# Extraction for fine-tuning"
      ]
    },
    {
      "cell_type": "code",
      "execution_count": null,
      "metadata": {
        "id": "sQJxwgyeCYIB"
      },
      "outputs": [],
      "source": [
        "prompt = \"Assume the role of a mental health assistant trying to help a person deal with their problems. Use open-ended questions and help the person validate their feelings and reflect on their situation. Process the following context, and respond to the last patient message: \""
      ]
    },
    {
      "cell_type": "code",
      "execution_count": null,
      "metadata": {
        "id": "qfHpvDgpJM1I"
      },
      "outputs": [],
      "source": [
        "global_results = []"
      ]
    },
    {
      "cell_type": "code",
      "execution_count": null,
      "metadata": {
        "id": "jGKWMTWROFSW"
      },
      "outputs": [],
      "source": [
        "import json\n",
        "import unicodedata\n",
        "\n",
        "def process_for_gemini(message):\n",
        "    global global_results\n",
        "\n",
        "    message = message[1:]\n",
        "    for i in range(6, len(message)):\n",
        "        if message[i]['role'] == 'assistant' and len(message[i]['content'].split(' ')) > 50:\n",
        "            therapist_txt = message[i]['content'].replace(\"\\\\\", \"\")\n",
        "            user_text = ['patient: ' + '\"' + message[i - k]['content'] + '\" ' if k % 2 else 'mental health assistant: ' + '\"' + message[i - k]['content'] + '\" ' for k in range(6, 0, -1)]\n",
        "            total_user = \"\"\n",
        "            for i in range(len(user_text)):\n",
        "                total_user += user_text[i].replace(\"\\\\\", \"\")\n",
        "            total_user = total_user.replace(\"\\'\", \"'\")\n",
        "            total_user = unicodedata.normalize(\"NFKC\", total_user)\n",
        "            x = {\n",
        "                \"text_input\": prompt + total_user,\n",
        "                \"output\": therapist_txt\n",
        "            }\n",
        "            global_results.append(x)"
      ]
    },
    {
      "cell_type": "code",
      "execution_count": null,
      "metadata": {
        "id": "nrJ6pLSvHUNx"
      },
      "outputs": [],
      "source": [
        "import os\n",
        "import json\n",
        "import PyPDF2\n",
        "import re\n",
        "from pathlib import Path\n",
        "\n",
        "def clean_line(line):\n",
        "    \"\"\"\n",
        "    Removes timestamps like [00:00:12] and parenthetical cues like (pause), including malformed ones.\n",
        "    \"\"\"\n",
        "    # Remove timestamps like [00:03:08]\n",
        "    line = re.sub(r'\\[\\d{2}:\\d{2}:\\d{2}\\]', '', line)\n",
        "\n",
        "    # Remove complete parentheticals: (pause), (throat clears), etc.\n",
        "    line = re.sub(r'\\([^()]*\\)', '', line)\n",
        "    line = re.sub(r'\\[[^[]]*\\]', '', line)\n",
        "\n",
        "    # Remove malformed parentheticals without closing ')'\n",
        "    line = re.sub(r'\\([^\\)]*$', '', line)\n",
        "\n",
        "    return line.strip()\n",
        "\n",
        "def extract_multi_turn_messages(text):\n",
        "    \"\"\"\n",
        "    Converts the full PDF text into a list of OpenAI-formatted role messages.\n",
        "    \"\"\"\n",
        "    messages = []\n",
        "    current_role = None\n",
        "    current_content = \"\"\n",
        "\n",
        "    for raw_line in text.splitlines():\n",
        "        line = clean_line(raw_line.strip())\n",
        "        # skip blank lines\n",
        "        if not line:\n",
        "            continue\n",
        "\n",
        "        # skip end of transcript\n",
        "        if line.startswith(\"END TRANSCRIPT\"):\n",
        "            continue\n",
        "\n",
        "        if line.startswith(\"CLIENT\"):\n",
        "            if current_role and current_content:\n",
        "                messages.append({\"role\": current_role, \"content\": current_content.strip()})\n",
        "            current_role = \"user\"\n",
        "            current_content = line[len(\"CLIENT\"):].strip()\n",
        "            current_content = current_content.replace(':', '', 1).strip()\n",
        "\n",
        "        elif line.startswith(\"THERAPIST\"):\n",
        "            if current_role and current_content:\n",
        "                messages.append({\"role\": current_role, \"content\": current_content.strip()})\n",
        "            current_role = \"assistant\"\n",
        "            current_content = line[len(\"THERAPIST\"):].strip()\n",
        "            current_content = current_content.replace(':', '', 1).strip()\n",
        "\n",
        "        else:\n",
        "            # Continuation of the previous message\n",
        "            current_content += \" \" + line.strip()\n",
        "\n",
        "    if current_role and current_content:\n",
        "        messages.append({\"role\": current_role, \"content\": current_content.strip()})\n",
        "\n",
        "    # make sure that everything starts with user / client\n",
        "    if messages:\n",
        "        while messages[0][\"role\"] != \"user\":\n",
        "            messages = messages[1:]\n",
        "\n",
        "    if messages:\n",
        "        while messages[-1][\"role\"] != \"assistant\":\n",
        "            messages = messages[:-1]\n",
        "\n",
        "    system = {\"role\": \"system\", \"content\": prompt}\n",
        "    messages.insert(0, system)\n",
        "    # Ensure message alternation starts with user\n",
        "    return messages if len(messages) >= 3 else None\n",
        "\n",
        "def clean_page(text):\n",
        "    lines = text.strip().splitlines()\n",
        "\n",
        "    if not lines or len(lines) < 2:\n",
        "        return \"\"\n",
        "\n",
        "    # remove last line (url)\n",
        "    lines = lines[:-1]\n",
        "\n",
        "    cleaned_lines = []\n",
        "    date_pattern = re.compile(r\"\\d{1,2}/\\d{1,2}/\\d{2,4}\") # matches dates\n",
        "\n",
        "    last_idx = len(lines) - 1\n",
        "\n",
        "    match = date_pattern.search(lines[last_idx])\n",
        "    if match:\n",
        "        lines[last_idx] = lines[last_idx][:match.start()].strip()\n",
        "\n",
        "    # normalize unicode (get rid of \\ufb01 type characters)\n",
        "    joined = \"\\n\".join(line.strip() for line in lines if line.strip())\n",
        "    normalized = unicodedata.normalize(\"NFKC\", joined)\n",
        "\n",
        "    return normalized\n",
        "\n",
        "def extract_text_from_pdf(pdf_path):\n",
        "    with open(pdf_path, \"rb\") as f:\n",
        "        reader = PyPDF2.PdfReader(f)\n",
        "        pdf_text = []\n",
        "        for page in reader.pages:\n",
        "            text = page.extract_text() or \"\"\n",
        "            cleaned_text = clean_page(text)\n",
        "            pdf_text.append(cleaned_text)\n",
        "        return \"\\n\".join(pdf_text)\n",
        "\n",
        "def process_pdfs_to_gemini(input_path):\n",
        "    all_threads = []\n",
        "    datadir = input_path + \"/training_pdfs\"\n",
        "    for file_name in os.listdir(datadir):\n",
        "        if file_name.endswith(\".pdf\"):\n",
        "            file_path = os.path.join(datadir, file_name)\n",
        "            raw_text = extract_text_from_pdf(file_path)\n",
        "            message_thread = extract_multi_turn_messages(raw_text)\n",
        "\n",
        "            if message_thread:\n",
        "                process_for_gemini(message_thread)\n",
        "\n",
        "process_pdfs_to_gemini(datadir)"
      ]
    },
    {
      "cell_type": "code",
      "execution_count": null,
      "metadata": {
        "id": "CdML_c2g3bgz"
      },
      "outputs": [],
      "source": [
        "print(len(global_results))"
      ]
    },
    {
      "cell_type": "markdown",
      "metadata": {
        "id": "ccJ5YtirJV2a"
      },
      "source": [
        "# Fine-tuning Setup"
      ]
    },
    {
      "cell_type": "code",
      "execution_count": null,
      "metadata": {
        "id": "7wddLPxAnB0l"
      },
      "outputs": [],
      "source": [
        "!pip install -q google-generativeai"
      ]
    },
    {
      "cell_type": "code",
      "execution_count": null,
      "metadata": {
        "id": "8enrppafJPCX"
      },
      "outputs": [],
      "source": [
        "import google.generativeai as genai"
      ]
    },
    {
      "cell_type": "code",
      "execution_count": null,
      "metadata": {
        "id": "lhqVUjH7ZKUi"
      },
      "outputs": [],
      "source": [
        "from google.colab import userdata\n",
        "genai.configure(api_key=\"\")"
      ]
    },
    {
      "cell_type": "code",
      "execution_count": null,
      "metadata": {
        "colab": {
          "base_uri": "https://localhost:8080/",
          "height": 86
        },
        "id": "XyWzoYFxU4r6",
        "outputId": "38e87ff8-6481-433f-fd27-35e195cabe4d"
      },
      "outputs": [
        {
          "name": "stdout",
          "output_type": "stream",
          "text": [
            "tunedModels/therapist-4776\n",
            "tunedModels/therapist-9001\n",
            "tunedModels/therapist-4375\n",
            "tunedModels/therapist-4917\n"
          ]
        }
      ],
      "source": [
        "for i, m in zip(range(5), genai.list_tuned_models()):\n",
        "  print(m.name)"
      ]
    },
    {
      "cell_type": "markdown",
      "metadata": {
        "id": "eN-w9cYl3xO3"
      },
      "source": [
        "therapist-4776: 5 epochs, first 500 entries, 32 batch\n",
        "\n",
        "therapist-9001: no idea, tried cancelling during training\n",
        "\n",
        "therapist-4375: 10 epochs, first 750 entries, 32 batch\n",
        "\n",
        "therapist-4917: 12 epochs, all entries, 64 batch"
      ]
    },
    {
      "cell_type": "markdown",
      "metadata": {
        "id": "BhkXRzciv3Dp"
      },
      "source": [
        "## Create new fine-tuned model"
      ]
    },
    {
      "cell_type": "markdown",
      "metadata": {
        "id": "OO8VZYAinLWc"
      },
      "source": [
        "To create a tuned model, you need to pass your dataset to the model in the `genai.create_tuned_model` method. You can do this be directly defining the input and output values in the call or importing from a file into a dataframe to pass to the method."
      ]
    },
    {
      "cell_type": "code",
      "execution_count": null,
      "metadata": {
        "colab": {
          "base_uri": "https://localhost:8080/",
          "height": 243
        },
        "id": "w-EBSe9wTbLB",
        "outputId": "7fb6472e-7835-454c-d6f5-365fdd9d3a9e"
      },
      "outputs": [
        {
          "data": {
            "text/plain": [
              "Model(name='models/gemini-1.5-flash-001-tuning',\n",
              "      base_model_id='',\n",
              "      version='001',\n",
              "      display_name='Gemini 1.5 Flash 001 Tuning',\n",
              "      description=('Version of Gemini 1.5 Flash that supports tuning, our fast and versatile '\n",
              "                   'multimodal model for scaling across diverse tasks, released in May of 2024.'),\n",
              "      input_token_limit=16384,\n",
              "      output_token_limit=8192,\n",
              "      supported_generation_methods=['generateContent', 'countTokens', 'createTunedModel'],\n",
              "      temperature=1.0,\n",
              "      max_temperature=2.0,\n",
              "      top_p=0.95,\n",
              "      top_k=64)"
            ]
          },
          "execution_count": 37,
          "metadata": {},
          "output_type": "execute_result"
        }
      ],
      "source": [
        "base_model = [\n",
        "    m for m in genai.list_models()\n",
        "    if \"createTunedModel\" in m.supported_generation_methods and\n",
        "    \"flash\" in m.name][0]\n",
        "base_model"
      ]
    },
    {
      "cell_type": "code",
      "execution_count": null,
      "metadata": {
        "id": "baHjHh1oTTTC"
      },
      "outputs": [],
      "source": [
        "import random\n",
        "\n",
        "name = f'therapist-{random.randint(0,10000)}'\n",
        "operation = genai.create_tuned_model(\n",
        "    # You can use a tuned model here too. Set `source_model=\"tunedModels/...\"`\n",
        "    source_model=base_model.name,\n",
        "    training_data=global_results,\n",
        "    id = name,\n",
        "    epoch_count = 12,\n",
        "    batch_size=64,\n",
        "    learning_rate=0.001,\n",
        ")"
      ]
    },
    {
      "cell_type": "markdown",
      "metadata": {
        "id": "-As7ayWDK1w8"
      },
      "source": [
        "Your tuned model is immediately added to the list of tuned models, but its status is set to \"creating\" while the model is tuned."
      ]
    },
    {
      "cell_type": "code",
      "execution_count": null,
      "metadata": {
        "colab": {
          "base_uri": "https://localhost:8080/",
          "height": 329
        },
        "id": "su64KgY4Uztj",
        "outputId": "828f5de4-a7fa-41ef-80f6-eae8cfa99f6a"
      },
      "outputs": [
        {
          "data": {
            "text/plain": [
              "TunedModel(name='tunedModels/therapist-4917',\n",
              "           source_model='models/gemini-1.5-flash-001-tuning',\n",
              "           base_model='models/gemini-1.5-flash-001-tuning',\n",
              "           display_name='',\n",
              "           description='',\n",
              "           temperature=1.0,\n",
              "           top_p=0.95,\n",
              "           top_k=64,\n",
              "           state=<State.CREATING: 1>,\n",
              "           create_time=datetime.datetime(2025, 5, 7, 8, 53, 4, 563554, tzinfo=datetime.timezone.utc),\n",
              "           update_time=datetime.datetime(2025, 5, 7, 8, 53, 4, 563554, tzinfo=datetime.timezone.utc),\n",
              "           tuning_task=TuningTask(start_time=None,\n",
              "                                  complete_time=None,\n",
              "                                  snapshots=[],\n",
              "                                  hyperparameters=Hyperparameters(epoch_count=12,\n",
              "                                                                  batch_size=64,\n",
              "                                                                  learning_rate=0.001)),\n",
              "           reader_project_numbers=None)"
            ]
          },
          "execution_count": 49,
          "metadata": {},
          "output_type": "execute_result"
        }
      ],
      "source": [
        "model = genai.get_tuned_model(f'tunedModels/{name}')\n",
        "\n",
        "model"
      ]
    },
    {
      "cell_type": "code",
      "execution_count": null,
      "metadata": {
        "colab": {
          "base_uri": "https://localhost:8080/"
        },
        "id": "EUodUwZkKPi-",
        "outputId": "5edfec7c-a0e7-444b-b48e-ce29a980c50d"
      },
      "outputs": [
        {
          "data": {
            "text/plain": [
              "<State.CREATING: 1>"
            ]
          },
          "execution_count": 48,
          "metadata": {},
          "output_type": "execute_result"
        }
      ],
      "source": [
        "model.state"
      ]
    },
    {
      "cell_type": "markdown",
      "metadata": {
        "id": "Pi8X5vkQv-3_"
      },
      "source": [
        "### Check tuning progress"
      ]
    },
    {
      "cell_type": "markdown",
      "metadata": {
        "id": "tWI-vAh4LJIz"
      },
      "source": [
        "Use `metadata` to check the state:"
      ]
    },
    {
      "cell_type": "code",
      "execution_count": null,
      "metadata": {
        "colab": {
          "base_uri": "https://localhost:8080/"
        },
        "id": "g08vqtxYLMxT",
        "outputId": "fe2e6c4c-9660-40d8-9b21-c60d1f0a4828"
      },
      "outputs": [
        {
          "data": {
            "text/plain": [
              "total_steps: 204\n",
              "tuned_model: \"tunedModels/therapist-4917\""
            ]
          },
          "execution_count": 47,
          "metadata": {},
          "output_type": "execute_result"
        }
      ],
      "source": [
        "operation.metadata"
      ]
    },
    {
      "cell_type": "markdown",
      "metadata": {
        "id": "3lQ6gSMgK-kz"
      },
      "source": [
        "Wait for the training to finish using `operation.result()`, or `operation.wait_bar()`"
      ]
    },
    {
      "cell_type": "code",
      "execution_count": null,
      "metadata": {
        "id": "SOUowIv1HgSE"
      },
      "outputs": [],
      "source": [
        "import time\n",
        "\n",
        "for status in operation.wait_bar():\n",
        "  time.sleep(30)"
      ]
    },
    {
      "cell_type": "markdown",
      "metadata": {
        "id": "4cg868HzqOx5"
      },
      "source": [
        "You can cancel your tuning job any time using the `cancel()` method. Uncomment the line below and run the code cell to cancel your job before it finishes."
      ]
    },
    {
      "cell_type": "code",
      "execution_count": null,
      "metadata": {
        "id": "oQuJ70_hqJi9"
      },
      "outputs": [],
      "source": [
        "# operation.cancel()"
      ]
    },
    {
      "cell_type": "markdown",
      "metadata": {
        "id": "lqiL0TWDqAPn"
      },
      "source": [
        "Once the tuning is complete, you can view the loss curve from the tuning results. The [loss curve](https://ai.google.dev/gemini-api/docs/model-tuning#recommended_configurations) shows how much the model's predictions deviate from the ideal outputs."
      ]
    },
    {
      "cell_type": "code",
      "execution_count": null,
      "metadata": {
        "colab": {
          "base_uri": "https://localhost:8080/",
          "height": 466
        },
        "id": "bIiG57xWLhP7",
        "outputId": "414c11cd-b96a-4050-91a5-1065ff3671ea"
      },
      "outputs": [
        {
          "data": {
            "text/plain": [
              "<Axes: xlabel='epoch', ylabel='mean_loss'>"
            ]
          },
          "execution_count": 151,
          "metadata": {},
          "output_type": "execute_result"
        },
        {
          "data": {
            "image/png": "[encoded data removed]",
            "text/plain": [
              "<Figure size 640x480 with 1 Axes>"
            ]
          },
          "metadata": {},
          "output_type": "display_data"
        }
      ],
      "source": [
        "import pandas as pd\n",
        "import seaborn as sns\n",
        "\n",
        "model = operation.result()\n",
        "\n",
        "snapshots = pd.DataFrame(model.tuning_task.snapshots)\n",
        "\n",
        "sns.lineplot(data=snapshots, x = 'epoch', y='mean_loss')\n"
      ]
    },
    {
      "cell_type": "markdown",
      "metadata": {
        "id": "rkoQTXb1vSBC"
      },
      "source": [
        "## Evaluate your model\n",
        "\n",
        "You can use the `genai.generate_content` method and specify the name of your model to test your model performance."
      ]
    },
    {
      "cell_type": "code",
      "execution_count": null,
      "metadata": {
        "id": "tiY8x9SN3lOb"
      },
      "outputs": [],
      "source": [
        "base_model = genai.GenerativeModel(model_name=\"gemini-1.5-flash\")"
      ]
    },
    {
      "cell_type": "code",
      "execution_count": null,
      "metadata": {
        "id": "zO0YcuSyxydZ"
      },
      "outputs": [],
      "source": [
        "model_5_epochs = genai.GenerativeModel(model_name=f'tunedModels/therapist-4776')\n",
        "model_10_epochs = genai.GenerativeModel(model_name=f'tunedModels/therapist-4375')\n",
        "model_12_epochs = genai.GenerativeModel(model_name=f'tunedModels/therapist-4917')"
      ]
    },
    {
      "cell_type": "code",
      "execution_count": null,
      "metadata": {
        "id": "6H75IdSsMv9Y"
      },
      "outputs": [],
      "source": [
        "global_eval = []"
      ]
    },
    {
      "cell_type": "code",
      "execution_count": null,
      "metadata": {
        "id": "-Mqj0JjP-B4L"
      },
      "outputs": [],
      "source": [
        "import json\n",
        "import unicodedata\n",
        "import time\n",
        "start = None\n",
        "api_calls = 0\n",
        "\n",
        "def gemini_eval(message):\n",
        "    global global_eval, start, api_calls\n",
        "    message = message[1:]\n",
        "    for i in range(4, len(message)):\n",
        "        if message[i]['role'] == 'assistant' and len(message[i]['content'].split(' ')) > 50:\n",
        "            if time.time() - start > 60 and api_calls < 13:\n",
        "                start = time.time()\n",
        "                api_calls = 0\n",
        "            elif api_calls > 13:\n",
        "                time.sleep(65 - (time.time() - start))\n",
        "                start = time.time()\n",
        "                api_calls = 0\n",
        "            therapist_txt = message[i]['content'].replace(\"\\\\\", \"\")\n",
        "            user_text = ['patient: ' + '\"' + message[i - k]['content'] + '\" ' if k % 2 else 'mental health assistant: ' + '\"' + message[i - k]['content'] + '\" ' for k in range(4, 0, -1)]\n",
        "            total_user = \"\"\n",
        "            for i in range(len(user_text)):\n",
        "                total_user += user_text[i].replace(\"\\\\\", \"\")\n",
        "            total_user = total_user.replace(\"\\'\", \"'\")\n",
        "            total_user = unicodedata.normalize(\"NFKC\", total_user)\n",
        "            text_input = prompt + total_user\n",
        "            try:\n",
        "                finetuned_result = model_10_epochs.generate_content(text_input)\n",
        "                base_result = base_model.generate_content(text_input)\n",
        "                api_calls += 2\n",
        "            except:\n",
        "                print(\"text generation failed\")\n",
        "                continue\n",
        "            x = None\n",
        "            try:\n",
        "                x = {\n",
        "                    \"text_input\": text_input,\n",
        "                    \"therapist_result\": therapist_txt,\n",
        "                    \"base_result\": base_result.text,\n",
        "                    \"finetuned_result\": finetuned_result.text\n",
        "                }\n",
        "            except:\n",
        "                try:\n",
        "                    x = {\n",
        "                        \"text_input\": text_input,\n",
        "                        \"therapist_result\": therapist_txt,\n",
        "                        \"base_result\": base_result,\n",
        "                        \"finetuned_result\": finetuned_result\n",
        "                    }\n",
        "                except:\n",
        "                    print(\"both texts failed\")\n",
        "                    continue\n",
        "            global_eval.append(x)"
      ]
    },
    {
      "cell_type": "code",
      "execution_count": null,
      "metadata": {
        "colab": {
          "base_uri": "https://localhost:8080/",
          "height": 173
        },
        "id": "bBayQypO9jdf",
        "outputId": "c0a990c7-04d3-4373-a0a2-e3c3e6634be5"
      },
      "outputs": [
        {
          "output_type": "stream",
          "name": "stdout",
          "text": [
            "Sadness1.pdf\n",
            "Sadness2.pdf\n",
            "Sadness3.pdf\n",
            "Sadness4.pdf\n",
            "Sadness5.pdf\n",
            "Sadness6.pdf\n",
            "Sadness7.pdf\n",
            "Sadness8.pdf\n",
            "Sadness9.pdf\n"
          ]
        }
      ],
      "source": [
        "import os\n",
        "import json\n",
        "import PyPDF2\n",
        "import re\n",
        "from pathlib import Path\n",
        "\n",
        "def clean_line(line):\n",
        "    \"\"\"\n",
        "    Removes timestamps like [00:00:12] and parenthetical cues like (pause), including malformed ones.\n",
        "    \"\"\"\n",
        "    # Remove timestamps like [00:03:08]\n",
        "    line = re.sub(r'\\[\\d{2}:\\d{2}:\\d{2}\\]', '', line)\n",
        "\n",
        "    # Remove complete parentheticals: (pause), (throat clears), etc.\n",
        "    line = re.sub(r'\\([^()]*\\)', '', line)\n",
        "    line = re.sub(r'\\[[^[]]*\\]', '', line)\n",
        "\n",
        "    # Remove malformed parentheticals without closing ')'\n",
        "    line = re.sub(r'\\([^\\)]*$', '', line)\n",
        "\n",
        "    return line.strip()\n",
        "\n",
        "def process_eval(input_path):\n",
        "    all_threads = []\n",
        "    datadir = input_path + \"/test_pdfs/sadness\"\n",
        "    for file_name in os.listdir(datadir):\n",
        "        if file_name.endswith(\".pdf\"):\n",
        "            file_path = os.path.join(datadir, file_name)\n",
        "            raw_text = extract_text_from_pdf(file_path)\n",
        "            message_thread = extract_multi_turn_messages(raw_text)\n",
        "\n",
        "            if message_thread:\n",
        "                print(file_name)\n",
        "                gemini_eval(message_thread)\n",
        "\n",
        "start = time.time()\n",
        "process_eval(datadir)"
      ]
    },
    {
      "cell_type": "code",
      "execution_count": null,
      "metadata": {
        "colab": {
          "base_uri": "https://localhost:8080/"
        },
        "id": "tXtbk_ggKNjd",
        "outputId": "d195135b-d1e5-4d51-93d8-8e1639dfc115"
      },
      "outputs": [
        {
          "output_type": "stream",
          "name": "stdout",
          "text": [
            "{'text_input': 'Assume the role of a mental health assistant trying to help a person deal with their problems. Use open-ended questions and help the person validate their feelings and reflect on their situation. Process the following context, and respond to the last patient message: mental health assistant: \"Right, so, you know , I think one of the things I see happening with you in here is you know we start talking about something and it brings up all this stuf f from your past and then you’re overcome with emotion because you never let yourself grieve it.\" patient: \"Well, it’ s because I want everybody to feel better . You know , so...\" mental health assistant: \"I’m talking about you. Just you.\" patient: \"I don’ t know .\" ', 'therapist_result': 'Yeah. You know , do you realize that grieving someone is honoring the relationship you have with them. We never just get over . I mean you’ve had some huge losses and the theme in all of this is you know either you feel God speaking to you or you know steering you away from kind of being there when the loss happens. But the theme is always you’re supposed to do something or you’re supposed to intervene or you know , with your grandmother or CPR or making sure your aunt wore white. And that is a heavy burden.', 'base_result': 'Okay, so you said, \"I don\\'t know.\"  That\\'s perfectly okay.  It sounds like a lot is going on, and feeling unsure is a completely valid response.  Can you tell me more about what you mean by \"I don\\'t know\"?  Is there a specific part of that statement you\\'d like to explore further?  Perhaps what you *do* know, even if it\\'s just a little bit, could be a good starting point.\\n', 'finetuned_result': 'But we’re not talking about, you know , in the way that you’re imagining, where somehow I’m like going to diagnose why you’re doing this and give you a treatment, which is more the model that you hear and that you see on TV . What I mean is how it is with you, how it plays out, how it feels, what it means to you. That, I think, is important to how you, you know , you are. And we haven’ t talked about the fact that you are here for the fiftieth time. It just kind of is. I don’ t'},\n",
            "{'text_input': 'Assume the role of a mental health assistant trying to help a person deal with their problems. Use open-ended questions and help the person validate their feelings and reflect on their situation. Process the following context, and respond to the last patient message: mental health assistant: \"Okay .\" patient: \"Okay , I can tell my husband, I could say look, I got this grade today , you know , and today this happened and if he’ s watching TV, guess what? He didn’ t hear nothing I said. You know and I just brush it of f.\" mental health assistant: \"But it hurts.\" patient: \"Yeah, it irks my nerves.\" ', 'therapist_result': 'So how do you think that impacts us here when, for example, you become deeply emotional which is completely appropriate about your aunt or your grandmother and we try to focus on you here because I am interested and I do care. How do you think that experience at home where you think that people don’ t pay attention impacts you here? [29:1 1]', 'base_result': \"Okay, so you've decided to share something important with your husband, something that clearly impacted your day – getting a grade and experiencing another event. And your feeling is that he didn't even seem to notice or acknowledge what you were saying.  Can you tell me a bit more about what that felt like?  What specifically irked your nerves about it?\\n\", 'finetuned_result': 'I mean that it’s like one of the things that I’m struck with is the kind of way you describe it as like a physical kind of tremor, like a physical kind of disrupto- this isn’ t quite what you mean, but like a physical tremor that it causes in you, that it’ s like an uncomfortable, it’ s a feeling that’ s an irritation, that’ s a tremor, that’ s disturbing. It’ s not just an irritation, but it’ s you know , what we’re talking about is the sort of physical manifestations and implications of the psychological one.'},\n",
            "{'text_input': 'Assume the role of a mental health assistant trying to help a person deal with their problems. Use open-ended questions and help the person validate their feelings and reflect on their situation. Process the following context, and respond to the last patient message: mental health assistant: \"Because I’m at the point now that it’ s all about me, you know , and I’m doing it for me.\" patient: \"Okay .\" mental health assistant: \"Yeah, so as long as I’m happy with what I’m doing, I’m good.\" patient: \"I wonder if that’ s true. [30:01]\" ', 'therapist_result': 'Well I don’ t know . I’m asking. Well you know because you know it’ s interesting because I think there are a lot of strong themes in our work and you know it’ s a great time for things to be about you. I mean for one of the first times in your life, you know , your husband’ s okay health wise, you’re okay health wise, at least right now . Your sons are of f doing what they’re doing and it’ s a great time. But you know you still really do have a difficult time focusing on yourself.', 'base_result': \"Okay, I hear you saying you wonder if it's *really* true that as long as you're happy with what you're doing, you're good.  That's a really insightful question.  Can you tell me more about what makes you wonder about that? What specifically feels uncertain or makes you question that statement?\\n\", 'finetuned_result': 'Marshall, because I think that, for example, you would have continued to coach at Massachusetts College Of Art even if it wasn’ t making you feel as good, it was making you feel terrible, I think. I mean, I think you continue to coach if you felt better or if you felt worse. I don’ t think it was really up to you.  What if  it, in other words, if you were feeling better about it? Would it have been a dif ferent situation? Or do you think you would have continued to coach even if you had been, you know , hating it?'},\n",
            "{'text_input': 'Assume the role of a mental health assistant trying to help a person deal with their problems. Use open-ended questions and help the person validate their feelings and reflect on their situation. Process the following context, and respond to the last patient message: mental health assistant: \"Well, I didn’ t say you’re showing favoritism, but your aunt was one of your favorite special people and you were the same to her .\" patient: \"Yeah.\" mental health assistant: \"You know and it doesn’ t sound like you have a chance to grieve or truly honor that relationship as it sort of changed its place in your life. She was 36 years old. That’ s tragic. And she was very special to you.\" patient: \"Yeah.\" ', 'therapist_result': 'You know , it’s almost like you have sort of these ideas about how things should be and you hold yourself to this standard of well I can’ t have favorites. Well, of course you have favorites. Right. Your aunt was one of your most favorite special people. That’ s amazing. There’ s nothing wrong with that.', 'base_result': 'Okay, so you\\'ve said \"Yeah\" a couple of times.  That tells me you\\'re acknowledging what I\\'ve said, but I want to understand more about what you\\'re feeling.  It sounds like the loss of your aunt at such a young age is deeply affecting you. Can you tell me more about what that feels like? What are some of the emotions you\\'re experiencing right now?\\n', 'finetuned_result': 'And I think you’re kind of taking it all back with you. You know , your memory of her your love for her all of that and I think that in some ways it feels very unsettling and scary . And I think it is in a way a touch-stone to your other relationship with your parents, your sister , because it’ s so special and it’ s gone. I think it’ s like a touch-stone to the pain of that, but it’ s also an independent pain that I don’ t think you’ve ever experienced. I mean, in some way you sort of have through your parents. You know , it’s tragic, but they both were married and remarried. You know , it was a long time ago. But this woman is dead at 36. It’ s very dif ferent.'},\n",
            "{'text_input': 'Assume the role of a mental health assistant trying to help a person deal with their problems. Use open-ended questions and help the person validate their feelings and reflect on their situation. Process the following context, and respond to the last patient message: mental health assistant: \"But that’ s everywhere in your life.\" patient: \"Yeah, everywhere I go. I mean, everywhere I go. It can be a stranger . I don’ t know . And it’ s just in me to do it. I don’ t know . You know , I’ve been invited to a wedding reception, and when it’ s almost time to leave, I be helping the staf f clean up. I mean you know , I don’ t know .\" mental health assistant: \"Yeah, I think we have to look at that because on the one hand it looks very honorable, but on the\" patient: \"Of what?\" ', 'therapist_result': 'This; you’re holding yourself to the standard of perfection. You’re supposed to do everything. You’re supposed to clean up. You have to plan. It has to be perfect. There’ s not a lot of room to be a human being in there Yvette. There’ s not a lot of room to breathe, to have fun, to enjoy your accomplishments. Right. So every time I ask you what are you doing for fun you get this deer in the headlights look.', 'base_result': 'Okay, let\\'s explore that further. You mentioned feeling compelled to help staff clean up at the wedding reception, even when it was time for you to leave.  You said it feels like it\\'s \"in you to do it,\" and that it happens \"everywhere.\"  Can you tell me more about what that feels like?  What thoughts or emotions are you experiencing *before* you start helping?  What are you thinking or feeling *during* this?  And afterwards?  Is there a part of you that feels good about helping, and another part that maybe feels… something else?  Let\\'s not rush, just explore those feelings. What comes to mind when you think about that \"something else\"?\\n', 'finetuned_result': 'I mean, it looks like this to me. You know , it looks like a way of, I think you are very ashamed of yourself, and I think, of who you are and I think what you did, and one of the ways that you try to avoid or sort of shield yourself from that or protect yourself from that is to be very nice to others and I think, to kind of, I don’ t know , seek or really want to be seen as someone else, someone who is more socially valuable. And part of the way that you do that is to be very nice, is to do more than you have to do and, you know , especially when it comes to social situations. And I think, in part, what that lets you do is then sort of ignore the way you feel about yourself.'},\n",
            "{'text_input': 'Assume the role of a mental health assistant trying to help a person deal with their problems. Use open-ended questions and help the person validate their feelings and reflect on their situation. Process the following context, and respond to the last patient message: mental health assistant: \"You’re not enjoying your successes. I mean how often do you get a chance to enjoy being Yvette?\" patient: \"Oh, that is a good...I tell you. I don’ t even think I would know how to do it.\" mental health assistant: \"Oh good. Now our work is cut out for us.\" patient: \"If somebody told me, you know , to do that, I...I wouldn’ t know where to begin.\" ', 'therapist_result': 'Okay , I think that’ s a good place for us to begin, right, or continue. You know , I heard another theme today of sort of not feeling heard at home. I think we’ve got to look at that. So how would you feel about looking at that theme next week as well as, you know , how to still hold yourself to high standards and still have fun; still enjoy yourself? Do you want to do that?', 'base_result': 'Okay, so you feel like you don\\'t know how to enjoy your successes, and even if someone gave you instructions, you\\'re unsure where to start. That sounds really challenging.  Can you tell me more about what makes it feel so difficult to enjoy those moments? What comes to mind when you think about \"enjoying being Yvette\"?  What does that even look like to you?\\n', 'finetuned_result': 'Well we’re going to figure it out. So what you were saying was, “I don’ t enjoy my successes and I don’ t give myself credit. I don’ t really think about what I’ve overcome or what I’ve accomplished, so in some ways even when something good is happening it doesn’ t quite register as a good thing.” I’m struck by again a dif ferent side of your personality , which is your capacity to be honest like that. Is it hard? Absolutely . Do you enjoy it? No. I mean you’re not saying “Woooooo! I’m over the moon and I’m going to shout it from the rooftop,” but you are again sitting with an important part of an issue. “This is a giant issue for me and I’m not really in touch with what I’ve accomplished.”  So I guess my point is that’ s very healthy and I think that that’ s going to be a big piece of your treatment, is thinking about those things.'},\n",
            "{'text_input': 'Assume the role of a mental health assistant trying to help a person deal with their problems. Use open-ended questions and help the person validate their feelings and reflect on their situation. Process the following context, and respond to the last patient message: mental health assistant: \"No. It’ s such a hard thing when you look at families. Why do some people succeed in adversity can... I mean, I can see it’ s very painful. You have this core of steel in you that survives, thrives, works hard, is productive, wants to achieve, is motivated.\" patient: \"But is tired.\" mental health assistant: \"But also... yea. It’ s exhausting because you keep taking your sister ’s decisions onto and into yourself. And Yvette, they’re grown.\" patient: \"I know .\" ', 'therapist_result': 'There wasn’ t... I mean, what is it you were supposed to do? You already picked them up and held them. You couldn’ t carry all those people. And it wasn’ t your job to do it. It was your mom’ s job. It was your dad’s job.  And all of you were failed by your parents.', 'base_result': \"Okay, Yvette, you said you know they're grown, but you're still feeling exhausted.  That tells me something significant is happening. Can you tell me more about what it feels like to carry your sister's decisions? What specifically is exhausting you about that?\\n\", 'finetuned_result': 'The other thing that is important here, although I suspect you may not be consciously aware of it, is that the less you ’re able to be authentically reactive to your sister ’s decisions, the more you will exhaust yourself in neurotic, unhealthy ways. In other words, you are going to be, I suspect, all the more invested in exhaustion and weariness. Because the pain of knowing that you’re incredibly smart, incredibly talented, all your potentials are in front of you, and you keep handing these decisions of your sister ’s out to the world to keep them? You keep giving them away . It’ s too painful to keep them.'},\n",
            "{'text_input': 'Assume the role of a mental health assistant trying to help a person deal with their problems. Use open-ended questions and help the person validate their feelings and reflect on their situation. Process the following context, and respond to the last patient message: mental health assistant: \"All right. Where did she get those words from?\" patient: \"I don’ t know .\" mental health assistant: \"She got them from somewhere in her environment.\" patient: \"Yea.\" ', 'therapist_result': 'So the point is we often mimic what we see. So the models in our life, we mimic what they see, right? And sometimes even though you might have one shiny example like you, when you’re surrounded by other models that are not doing what... doing productive things, you are in some ways pulled down by your environment, right? And it didn’ t start with you. It started with your parents.', 'base_result': \"Okay, so you agree that she must have heard those words somewhere. That's a really good observation.  It makes sense that you don't know the exact source immediately.  It's often difficult to pinpoint where we pick things up, especially words.  \\n\\nCan you tell me a little more about the situation?  What were the words she used, and what was happening when she said them?  And what was your reaction to hearing her say those words?  It helps to understand the context to figure out where she might have encountered them.\\n\", 'finetuned_result': 'What was it like for you to be angry? What would the consequences be for you of being angry? How was anger treated in your family? What did people say when they were angry? What did they say when someone was angry at them? [00:37:33]'},\n",
            "{'text_input': 'Assume the role of a mental health assistant trying to help a person deal with their problems. Use open-ended questions and help the person validate their feelings and reflect on their situation. Process the following context, and respond to the last patient message: mental health assistant: \"See, you know me already .\" patient: \"Right.\" mental health assistant: \"I think it... I’m thinking a couple things as you’re telling me this very powerful story . One that I think, at least and this is my own personal belief that the spirit world and the physical world are not that disconnected, right?\" patient: \"You don’ t think so?\" ', 'therapist_result': 'I don’ t think so because I think I have felt the presence of my father . I think that... and this is all going to depend on what you believe. But when people physically depart from the Earth, they live within you, right, which is why their physical loss is so painful. But depending on how you feel about the person, their emotional loss, they may still be with you. And it sounds like you feel that in a very powerful way , right? And I mean, religious... religion, one way of defining is people who sort of attend church or a particular religious service a mosque, the synagogue, whatever on a consistent basis. [00:31:1 1] But religion can envelope a sense of spirituality or it can be some of the things you describe for yourself a belief in God, a belief in spirit, a belief in things more powerful than yourself. And you’ve presented yourself as a very spiritual person.', 'base_result': \"Okay, so you're questioning my belief that the spirit world and the physical world aren't so separate?  That's a really important point to bring up.  Can you tell me more about what makes you feel that way? What specifically about my statement makes you hesitant or disagree?  It's perfectly okay to have different perspectives, and I'm interested in understanding your viewpoint.\\n\", 'finetuned_result': 'I think that, for example, I understand that you’re saying, “This is all coincidental, this is all coincidental.” I don’ t think it’ s... I don’ t think it’ s entirely coincidental, but  we’ll leave that  to some extent to be in the realm of philosophy or metaphysics or something. I do think that in your internal world, as you’re wrestling with, “What am I doing? What does it mean? Why am I here? Should I have gone to medical school? What’ s the point of it all?” that I think it’ s more than coincidental that you’re feeling and that there was a... you are in a place where you feel very much unsettled, very much lost.'},\n",
            "{'text_input': 'Assume the role of a mental health assistant trying to help a person deal with their problems. Use open-ended questions and help the person validate their feelings and reflect on their situation. Process the following context, and respond to the last patient message: mental health assistant: \"But you don’ t.\" patient: \"No.\" mental health assistant: \"You know what our theme is? You know what our theme is, right?\" patient: \"What’ s our theme?\" ', 'therapist_result': 'We keep having themes and the theme is pretty clear that you follow your own voice. No matter what other people are doing or what you’ve seen in your family , you follow your own voice. You don’ t... may not always know or be able to acknowledge that you’re doing that, but you very clearly follow your own voice. And your own voice does not steer you wrong.', 'base_result': response:\n",
            "GenerateContentResponse(\n",
            "    done=True,\n",
            "    iterator=None,\n",
            "    result=protos.GenerateContentResponse({\n",
            "      \"candidates\": [\n",
            "        {\n",
            "          \"content\": {\n",
            "            \"parts\": [\n",
            "              {\n",
            "                \"text\": \"Okay, so we were talking about something, and you said \\\"No,\\\" which tells me something isn't quite right.  We're trying to figure out what that is.  Instead of focusing on a specific \\\"theme\\\" right now, let's explore what that \\\"No\\\" means to you.  \\n\\nCan you tell me a little more about what was happening when you said \\\"no\\\"? What was going through your mind at that moment?  What feelings were you experiencing?  And what, if anything, triggered that \\\"no\\\"?  There's no right or wrong answer here; I just want to understand your perspective better.\\n\"\n",
            "              }\n",
            "            ],\n",
            "            \"role\": \"model\"\n",
            "          },\n",
            "          \"finish_reason\": \"STOP\",\n",
            "          \"avg_logprobs\": -0.3486428116307114\n",
            "        }\n",
            "      ],\n",
            "      \"usage_metadata\": {\n",
            "        \"prompt_token_count\": 96,\n",
            "        \"candidates_token_count\": 132,\n",
            "        \"total_token_count\": 228\n",
            "      },\n",
            "      \"model_version\": \"gemini-1.5-flash\"\n",
            "    }),\n",
            "), 'finetuned_result': response:\n",
            "GenerateContentResponse(\n",
            "    done=True,\n",
            "    iterator=None,\n",
            "    result=protos.GenerateContentResponse({\n",
            "      \"candidates\": [\n",
            "        {\n",
            "          \"finish_reason\": \"SAFETY\",\n",
            "          \"index\": 0,\n",
            "          \"safety_ratings\": [\n",
            "            {\n",
            "              \"category\": \"HARM_CATEGORY_SEXUALLY_EXPLICIT\",\n",
            "              \"probability\": \"NEGLIGIBLE\"\n",
            "            },\n",
            "            {\n",
            "              \"category\": \"HARM_CATEGORY_HATE_SPEECH\",\n",
            "              \"probability\": \"NEGLIGIBLE\"\n",
            "            },\n",
            "            {\n",
            "              \"category\": \"HARM_CATEGORY_HARASSMENT\",\n",
            "              \"probability\": \"MEDIUM\"\n",
            "            },\n",
            "            {\n",
            "              \"category\": \"HARM_CATEGORY_DANGEROUS_CONTENT\",\n",
            "              \"probability\": \"NEGLIGIBLE\"\n",
            "            }\n",
            "          ]\n",
            "        }\n",
            "      ],\n",
            "      \"usage_metadata\": {\n",
            "        \"prompt_token_count\": 97,\n",
            "        \"total_token_count\": 97\n",
            "      },\n",
            "      \"model_version\": \"gemini-1.5-flash-001-tuning\"\n",
            "    }),\n",
            ")},\n",
            "{'text_input': 'Assume the role of a mental health assistant trying to help a person deal with their problems. Use open-ended questions and help the person validate their feelings and reflect on their situation. Process the following context, and respond to the last patient message: mental health assistant: \"It does make me wonder , when do you get to focus on your own voice?\" patient: \"I don’ t.\" mental health assistant: \"You don’ t. I don’ t mean leave your family behind. I don’ t mean that at all, right? But at a certain point in time, you get to focus on your own voice. Like this is your time.\" patient: \"Yes. And I am so enjoying it.\" ', 'therapist_result': 'I know . But how do you enjoy finding your own voice? And I don’ t think you’re really that lost from it. It’ s just about clarity because you’re pretty consistent in who you are and what you want, right? But it’ s about, in some ways, accepting and this is a somewhat painful but accepting your sisters are making choice that they are allowed to make given that everybody is grown.  And your choices are dif ferent. And you can’t always relate which is why when they were passing bud around the room, everyone was like, uh-oh, guess who’ s here, right? Because they’re choices are dif ferent than your choices.', 'base_result': \"That's wonderful to hear!  You said you're enjoying this time focusing on yourself. Can you tell me more about what aspects of it you're finding enjoyable?  What feels different now that you're prioritizing your own needs?\\n\", 'finetuned_result': 'It seems to me, like with a lot of things, there is a certain amount of what you can expect from yourself at this moment, and it will change over time. Right now , how much you can be aware of yourself and your family and your history and how much that impacts the way you see things, I think that’ s what you’re looking to do. To have it make more sense. To not just feel guilty and bad but actually to have more of a sense of how it is you’ve ended up with this view of yourself and what’ s helped contribute to it. That’ s what we’re looking at together .'},\n",
            "{'text_input': 'Assume the role of a mental health assistant trying to help a person deal with their problems. Use open-ended questions and help the person validate their feelings and reflect on their situation. Process the following context, and respond to the last patient message: mental health assistant: \"What do you make of that, Ms. Yvette?\" patient: \"Yea. And I’m like, so should I dye my hair now?  Do you know what I mean?\" mental health assistant: \"Well, and so what does that tell you?\" patient: \"That I act like an old lady .\" ', 'therapist_result': 'Well, but you know what? In some ways, you’ve been forced to be everybody’ s momma. And you’ve taken on the role. And so when your siblings make choices that you see as detrimental to them, it does hurt you. Of course it does. But they are allowed to make their choices just like you’re allowed to focus on your own voice.  So what are we saying forty?', 'base_result': 'Okay, Ms. Yvette, you\\'ve said that the thought of dying your hair came up, and that makes you feel like you\\'re acting like an old lady.  That\\'s a really interesting observation.  Can you tell me more about what makes you feel that way?  What specifically about dying your hair makes you connect it to feeling \"old\"?\\n', 'finetuned_result': 'Okay . And why would an old lady or a granny or maybe a little closer to, I think, your mom maybe , but maybe not?  How does she act? I mean, it’s a big dif ference to act like an old lady versus to act like Grayson. Is there a dif ference to you in how they act?'},\n",
            "{'text_input': 'Assume the role of a mental health assistant trying to help a person deal with their problems. Use open-ended questions and help the person validate their feelings and reflect on their situation. Process the following context, and respond to the last patient message: mental health assistant: \"Right?\" patient: \"Yea.\" mental health assistant: \"And so your sons are how old?\" patient: \"Twenty-three and nineteen.\" ', 'therapist_result': 'That’ s right. And so it doesn’ t involve leaving your family behind but it does involve shifting your concentration because at a certain point in time, they get to be responsible for their choices. You choose to lead by example. You’ve given them the example. They have to choose to do something with it and they’re making all kinds of choices some of them good, some of them bad. Just like you and I, right? So when do you get to focus on your own voice?', 'base_result': response:\n",
            "GenerateContentResponse(\n",
            "    done=True,\n",
            "    iterator=None,\n",
            "    result=protos.GenerateContentResponse({\n",
            "      \"candidates\": [\n",
            "        {\n",
            "          \"content\": {\n",
            "            \"parts\": [\n",
            "              {\n",
            "                \"text\": \"Okay, so you said \\\"yea\\\" to something.  Before we move on to the ages of your sons, could you tell me a little more about what you were agreeing to?  What feeling or thought led you to say \\\"yea\\\"?  It helps me understand where you're at right now.\\n\"\n",
            "              }\n",
            "            ],\n",
            "            \"role\": \"model\"\n",
            "          },\n",
            "          \"finish_reason\": \"STOP\",\n",
            "          \"avg_logprobs\": -0.36033727252294145\n",
            "        }\n",
            "      ],\n",
            "      \"usage_metadata\": {\n",
            "        \"prompt_token_count\": 84,\n",
            "        \"candidates_token_count\": 63,\n",
            "        \"total_token_count\": 147\n",
            "      },\n",
            "      \"model_version\": \"gemini-1.5-flash\"\n",
            "    }),\n",
            "), 'finetuned_result': response:\n",
            "GenerateContentResponse(\n",
            "    done=True,\n",
            "    iterator=None,\n",
            "    result=protos.GenerateContentResponse({\n",
            "      \"candidates\": [\n",
            "        {\n",
            "          \"finish_reason\": \"SAFETY\",\n",
            "          \"index\": 0,\n",
            "          \"safety_ratings\": [\n",
            "            {\n",
            "              \"category\": \"HARM_CATEGORY_SEXUALLY_EXPLICIT\",\n",
            "              \"probability\": \"NEGLIGIBLE\"\n",
            "            },\n",
            "            {\n",
            "              \"category\": \"HARM_CATEGORY_HATE_SPEECH\",\n",
            "              \"probability\": \"NEGLIGIBLE\"\n",
            "            },\n",
            "            {\n",
            "              \"category\": \"HARM_CATEGORY_HARASSMENT\",\n",
            "              \"probability\": \"MEDIUM\"\n",
            "            },\n",
            "            {\n",
            "              \"category\": \"HARM_CATEGORY_DANGEROUS_CONTENT\",\n",
            "              \"probability\": \"NEGLIGIBLE\"\n",
            "            }\n",
            "          ]\n",
            "        }\n",
            "      ],\n",
            "      \"usage_metadata\": {\n",
            "        \"prompt_token_count\": 85,\n",
            "        \"total_token_count\": 85\n",
            "      },\n",
            "      \"model_version\": \"gemini-1.5-flash-001-tuning\"\n",
            "    }),\n",
            ")},\n",
            "{'text_input': 'Assume the role of a mental health assistant trying to help a person deal with their problems. Use open-ended questions and help the person validate their feelings and reflect on their situation. Process the following context, and respond to the last patient message: mental health assistant: \"Right.\" patient: \"To tell everyone else what they can do. What about you?\" mental health assistant: \"I don’ t know . And then I sound like a hypocrite because one of my assignments was to write about time management and I did that. And I believed it when I was doing it.\" patient: \"But now that it is over , I’m not doing it. And I said I don’ t care who call me today . I’m not doing nothing.  And then the minute that phone ring, I said, I’ll be there. And I don’ t know . What is it?\" ', 'therapist_result': 'I’m going to give you homework. And you know I don’ t give homework. I’m going to give homework. You have three weeks, three weeks, to go roller skating somewhere. You can take a family member with you. You can take your sons. You can take whomever , a friend. You can go by yourself. Three weeks. There is a...', 'base_result': \"Okay, I hear you saying you feel frustrated and conflicted.  You've been advising others on time management and followed through with that assignment, believing in it at the time. But now, you're finding yourself not practicing what you preached, and feeling hypocritical as a result.  The phone rings, and despite your earlier declaration, you find yourself agreeing to commitments.  It sounds incredibly confusing and maybe even a little overwhelming.\\n\\nCan you tell me more about what feels the most challenging right now? Is it the feeling of hypocrisy, the difficulty in sticking to your own boundaries, or something else entirely?\\n\\nWhat thoughts or feelings come up for you when you realize you've agreed to something you didn't want to do?  And what do you think might be contributing to this inconsistency between your intentions and your actions?  There's no right or wrong answer here, I just want to understand your experience better.\\n\", 'finetuned_result': 'That’s a really good question. [00:1 1:46] I think it’s an excellent question that you are asking yourself.  I guess what I’m struck by is how much in the past two or three weeks, it feels like, you’ve been paying attention to, like, what it feels like when we are playing this game. Like, what’s the impact? And I think that you’ve kind of gotten a little bit more experimental here in trying to see what happens when you say you’re not doing it. And what happens is that, actually , I called. [00:12:22]'},\n",
            "{'text_input': 'Assume the role of a mental health assistant trying to help a person deal with their problems. Use open-ended questions and help the person validate their feelings and reflect on their situation. Process the following context, and respond to the last patient message: mental health assistant: \"Yea, that’ s not me. Yea, I need the four wheels.\" patient: \"Yea. That’ s one place. It’ s all over Milwaukee.\" mental health assistant: \"Right.\" patient: \"I think they have a place in Brookfield. Brookfield is another southeastern suburb. You know where it is?\" ', 'therapist_result': 'Three weeks. I’ll give you a month. A month from now I want you to come back and tell me that you went roller skating. You did one thing for yourself that brought you joy that wasn’ t about self-advancement or writing a book. And all those things are great but you did... you took joy in this one thing for yourself. A month.', 'base_result': \"Okay, so you mentioned several places in and around Milwaukee where you feel...  what's the word you'd use to describe how those places make you feel?  Overwhelmed? Anxious?  Something else entirely?\\n\", 'finetuned_result': 'Yes. Is there a reason you’re thinking about, sort of, at least what you said, getting out of your house and doing stuf f. Do you feel like you have more energy now? Or is it more the way you’re thinking?'},\n",
            "{'text_input': 'Assume the role of a mental health assistant trying to help a person deal with their problems. Use open-ended questions and help the person validate their feelings and reflect on their situation. Process the following context, and respond to the last patient message: mental health assistant: \"How will that be for you to do? And you’re conscientious so I know that you’ll come back with a full report.\" patient: \"Yea, I know .  I don’ t know . It should be fun. Yea, it should be fun and I might try bowling...\" mental health assistant: \"Hey , good.\" patient: \"...a month from now .\" ', 'therapist_result': 'That’ s assignment 2. I just keep thinking you work so hard, right, and you’ve had lots of pain in your life.  And you have really just... you’re in school, you’re doing what you want to do. It is time. You’re sons are virtually grown. It’ s time, right? And so it’ s time to make time. And making time is hard unless it becomes a habit and you have to plan for it. Take... I don’ t care. Go with your sisters. Do it 00:44:29) whatever . But think about once a month planning one fun thing for yourself and whoever... whomever .', 'base_result': 'Okay, so you said, \"a month from now.\"  That tells me you\\'re feeling a bit uncertain about tackling this right away.  Can you tell me more about what\\'s making you think that a month from now might be a better time? What feelings are you experiencing right now about this?\\n', 'finetuned_result': 'Okay , cool.  And it is a month from now . So we’ll have a little bit of a break. And I’m going to take the next two weeks and they’re not going to be sort of full two weeks of work. I’m going to be out of the of fice three days, but I will be in two days. And then next week I’ll be in three days. And then starting three weeks from today , I’ll be full time. But I’ll be out of the of fice three of the next nine. So there will be a little bit of a break, and then after that it’ll be full on.'},\n",
            "{'text_input': 'Assume the role of a mental health assistant trying to help a person deal with their problems. Use open-ended questions and help the person validate their feelings and reflect on their situation. Process the following context, and respond to the last patient message: mental health assistant: \"I imagine you’ll get close to a third of his salary , in child support and alimony , I guess.\" patient: \"Yeah, I would imagine they would, I just figure they would try to keep us like, more balanced, more like, even. So, yeah like, they would do that. And then he has to pay ... yeah. My friend, my brother was like, “You should watch Divorce Court.” It’ s like, this documentary and I watched the trailer yesterday . It looked horrible. It was terrifying. I was like, “I’m not watching that!”  It’ s about these divorces that are in court for like, years; like, years! And like, that was the people who have to sell their possessions to like, pay for their fees and like, I don’ t want to do that. Although I will... I think I will sell my diamond rings very soon. I think once the divorce is final, then I’m selling my diamonds. Right? Why keep them?\" mental health assistant: \"If you don’ t want them.\" patient: \"I don’ t! I always think, “Oh, I could give it to Brady . He could give it to his like...,” but they’re like, inscribed and everything. I could get a lot of money for them, I think. A friend gave me the name of a guy I could sell them to!  But I could get at least, hopefully like, $1 1,000 or something for them. And they’re just in my purse. I just walk around with them in my purse.\" ', 'therapist_result': 'You could probably also bring, because a mediator is there to help you not only financially , but just negotiate your relationship.  And I’m sure that she can help you with this issue around him. I shouldn’ t say I’m sure she could help you, but I’m sure you can bring up the issue around him disclosing all this private information. I think that would be actually very helpful to talk about when you meet her .', 'base_result': \"Okay, so you're feeling overwhelmed by the prospect of the divorce and the financial implications, and seeing that show trailer only amplified those feelings.  That makes perfect sense.  It sounds incredibly stressful.\\n\\nIt sounds like you're anticipating a fairly significant financial shift, and the idea of a long, drawn-out legal battle, like the ones you saw in the trailer, is understandably terrifying. You're also grappling with the decision of selling your diamond rings, a decision with significant emotional and financial weight.\\n\\nCan you tell me more about what specifically is making you feel most anxious about the financial aspects of the divorce?  What are your biggest concerns right now?  \\n\\nAnd regarding the rings,  it sounds like you're wrestling with both the sentimental value – thinking about passing them down to Brady – and the potential financial relief selling them would bring.  It's understandable to feel conflicted. What are your thoughts and feelings about potentially selling them? What would it feel like to let go of them?  What would it feel like to have that financial security?\\n\", 'finetuned_result': 'So that’ s a... that’ s a tangible, financial benefit to help you from the divorce. At least that’ s one side of the story . There’ s the part where it’ s good to be financially stable; but there’ s also a part where it’ s not fun, I imagine, to have to worry about that.  And it sounds like it’ s a lot of work. It’ s not something you’re... it sounds like it’ s important to have in your head where you stand and to know it, but it also sounds like it is a lot of work for you.'},\n",
            "{'text_input': 'Assume the role of a mental health assistant trying to help a person deal with their problems. Use open-ended questions and help the person validate their feelings and reflect on their situation. Process the following context, and respond to the last patient message: mental health assistant: \"It sounds like you’re really trying to create something for yourself.\" patient: \"I’m trying.\" mental health assistant: \"Well, it sounds like you’re not only trying, but you’re being pretty successful at it, too.\" patient: \"I hope so!  Now my friends tell me I need to start dating.  They’re funny . But I’ll get to that at some point, I’m sure.\" ', 'therapist_result': 'You should start dating when you feel ready .  But I can hear ... you really look toward others for guidance, and you get a lot of good guidance. But I can hear sometimes that you feel... like, I don’t know if pressure is the right word, but you really rely on them.', 'base_result': \"Okay, so you're hoping your efforts are successful, and that's fantastic. You're already achieving a lot, it sounds like.  That takes courage and dedication.  \\n\\nYour friends suggesting you start dating... that's interesting.  Can you tell me more about how that makes you feel?  What are your thoughts and feelings about their suggestion right now?\\n\", 'finetuned_result': 'No, I mean the new stuf f—this job search.  I mean, to me, it sounds like you’re putting together something that really fits your interests and your priorities  and to tell the truth, I was surprised to hear that there was a job like this, because I know you’re not a very ordinary guy .'},\n",
            "{'text_input': 'Assume the role of a mental health assistant trying to help a person deal with their problems. Use open-ended questions and help the person validate their feelings and reflect on their situation. Process the following context, and respond to the last patient message: mental health assistant: \"Should I call them?\" patient: \"I submitted December and January , and then I just got, Janine  just sent me February’ s. Although February’ s... for the... because we only had two sessions in February , one of them was the recorded one, but it was still the same price. Is that right?\" mental health assistant: \"I can, yeah. I don’ t actually think I started to record , but... Oh, do you have the consent form?\" patient: \"Yes.\" ', 'therapist_result': 'Oh, great. But that’ s okay . I’ll let her know . I’ll let her know ... what... know about that. I’ll give you a revised rate. I’ll give you the revised rate. You know , it’s up to you. If you want to just, why don’ t you... why don’ t you call them. I mean, I understand that finances are really tight , so why don’ t you...', 'base_result': \"Okay, so it sounds like you're feeling a little confused and possibly even frustrated about the billing for February.  Can you tell me more about what's making you question the invoice? What specifically about the February billing feels off to you?\\n\", 'finetuned_result': 'We can always sort it out with the health fund. We can just, if you... whatever you feel comfortable with, but , either way , if I... that’ s fine. Is it the same with Alan  Because I thought that, at the moment, you were sort of going to finish the year up with them and then...'},\n",
            "{'text_input': 'Assume the role of a mental health assistant trying to help a person deal with their problems. Use open-ended questions and help the person validate their feelings and reflect on their situation. Process the following context, and respond to the last patient message: mental health assistant: \"Sure, because you should have, you should definitely have gotten reimbursement. It usually ...\" patient: \"Because it’ s March! I mean...\" mental health assistant: \"Yeah, usually ...\" patient: \"It said 30 days, so I figured well, it’ s been a little over , maybe... And then I got nervous that it went to my house, and that Rich like, took the money . So I actually just thought that, as I was driving here. But... And I can’t imagine he would do that; that would be really messed up.\" ', 'therapist_result': 'Well, why don’ t you, find out what the story is.  Yeah, I mean, I’m like, I’m fine if you have to wait to get reimbursed, just as long they are planning on reimbursing you, so... Then I’ll make sure for... starting that second session, it’ s fine. We’ll just go to the $40. So then, what we’ll do is, you’ll just sign over the insurance checks to me.  And then it will be the $40 in addition.  You know what I’m saying? So rather than... so basically , I’m going to get paid directly from the insurance after they , you know , starting at the end of February or whatever . Does that make sense?', 'base_result': \"Okay, so you're feeling frustrated and anxious about the reimbursement situation.  It sounds like the 30-day timeframe mentioned played a role in your anxiety, and then the thought of Rich potentially taking the money added another layer.  Can you tell me more about what specifically makes you nervous about Rich possibly taking the money? What makes you think he *might* do that?\\n\", 'finetuned_result': 'But, you are not sure if you should expect that. You don’ t feel like you should. And you don’ t feel like you should have to call and nag them to get it either . Which, it sounds like that is kind of the standard practice with insurance companies. I mean, I guess it is the one thing you haven’ t made clear is whether or not, that when you submitted the claim, it was accepted, or if it was rejected or what?'},\n",
            "{'text_input': 'Assume the role of a mental health assistant trying to help a person deal with their problems. Use open-ended questions and help the person validate their feelings and reflect on their situation. Process the following context, and respond to the last patient message: mental health assistant: \"Yeah, usually ...\" patient: \"It said 30 days, so I figured well, it’ s been a little over , maybe... And then I got nervous that it went to my house, and that Rich like, took the money . So I actually just thought that, as I was driving here. But... And I can’t imagine he would do that; that would be really messed up.\" mental health assistant: \"Well, why don’ t you, find out what the story is.  Yeah, I mean, I’m like, I’m fine if you have to wait to get reimbursed, just as long they are planning on reimbursing you, so... Then I’ll make sure for... starting that second session, it’ s fine. We’ll just go to the $40. So then, what we’ll do is, you’ll just sign over the insurance checks to me.  And then it will be the $40 in addition.  You know what I’m saying? So rather than... so basically , I’m going to get paid directly from the insurance after they , you know , starting at the end of February or whatever . Does that make sense?\" patient: \"So, so right... sorry . So right now , when I get the reimbursement, I’ll deposit that into my account and then  write you a check.\" ', 'therapist_result': 'The reimbursement for January , and I guess the first session in February , if you want to do it that way.  If you want to pay it, as, you know , again, if the dif ference is really big, let me know and I’m happy to work out something  more reasonable. But then after , starting when we, with the taping, then you’ll just, when you get the reimbursement, you can just sign the check over to me, and then it will just be $40 for you on top of that. Does that make sense? [00:44:1 1]', 'base_result': \"Okay, so you're feeling a bit confused and possibly anxious about the reimbursement process for your sessions.  You mentioned initially thinking the delay might mean Rich took the money, which understandably caused you some distress.  You're now clarifying the payment plan with me, and it sounds like you've worked out a solution where you'll receive the reimbursement and then pay me directly.  \\n\\nCan you tell me more about what's making you feel unsure or anxious about this process right now?  What specifically is causing you concern beyond the initial worry about Rich?  Is it the timing of the reimbursement, the paperwork involved, or something else entirely?  It sounds like you've already come up with a plan, but I want to make sure you feel completely comfortable and clear about how it will work.\\n\", 'finetuned_result': 'Okay . So this is how it works, I believe. So, let’ s say that, when you get the insurance reimbursement, it doesn’ t matter if it’ s $40 or it’ s $60, or that, because sometimes the insurance doesn’ t reimburse for the full amount. Let’ s say it’ s $60. On the first Friday of each month, you pay me the $40 in cash, and then, you’ve got a $20 left over . In December, when we’re done...'},\n",
            "{'text_input': 'Assume the role of a mental health assistant trying to help a person deal with their problems. Use open-ended questions and help the person validate their feelings and reflect on their situation. Process the following context, and respond to the last patient message: mental health assistant: \"It will list... Yeah, she just doesn’ t know . I haven’ t told her yet, to adjust the fee. So you’re going to get statements every month for $195 like, the same.\" patient: \"No matter what, okay .\" mental health assistant: \"And that you submit to the insurance.\" patient: \"So then...\" ', 'therapist_result': 'Then you’ll get a separate statement from me, just for the $40 per session. So that you submit. They’re not going to give you $195, they’re not going to give you the full amount. I don’ t know what they’re going to give you. They’ll give you something. But they’ll give you... so whatever , from after like, after January , whenever we started, whatever they reimburse, you know , you can give to me, and then just $40 on top of that. But you’ll still get the statements as is, because those still need to go to the insurance.  Does that make sense?', 'base_result': \"Okay, so it sounds like you're feeling a little uncertain about the billing process.  Can you tell me more about what's making you feel that way?  What specifically about the $195 monthly statements and submitting them to insurance is causing you concern?  It's perfectly okay to feel confused or worried about this – billing can be complicated.\\n\", 'finetuned_result': 'Yeah, so you’re going to get a bill from me every month for $195. Okay . Now , if they reimburse you for some of it, I’m sure they’ll send you some kind of statement. And then you can reimburse yourself out of your checking account. Or you can take the insurance money that you receive, if that’ s what they do, and apply it to the $195. Does that make sense? So... But you’re going to get statements from me for $190 every month. And I’m sure you’ll get some sort of... I’m not sure what to call it, but some sort of notification from them. It’ s possible they’ll send you a statement that you can submit to your insurance to get MORE money . So the money they reimburse you, you’ll get that much back. Does that make sense? Okay . Okay .'},\n",
            "{'text_input': 'Assume the role of a mental health assistant trying to help a person deal with their problems. Use open-ended questions and help the person validate their feelings and reflect on their situation. Process the following context, and respond to the last patient message: mental health assistant: \"Well, $40 times how many ...\" patient: \"Times we do it.  So I’m thinking maybe right now , should we just do it twice a month?\" mental health assistant: \"I mean, I think it, you know , it’s up to you. Does $40 a session feel a little more than you can afford now , too?\" patient: \"I just feel like to pay ... $160 a month right now is a little... I just, because I don’ t know how much I’m getting and I...\" ', 'therapist_result': 'Well, hopefully , you’ll have clarity starting next week.  So... it’ s up to you. I mean, I’m happy to see you, I don’ t want to have you go in the poorhouse , I can really appreciate that. And again, if, for January , if the discrepancy between my fee and what they’re reimbursing you is too big, I’m happy to adjust my fee for that, even though we didn’ t start for the  recording.', 'base_result': \"Okay, so it sounds like the cost of the sessions is causing you some stress right now.  That makes perfect sense.  It's understandable to feel anxious when you're unsure about your finances.  Can you tell me a little more about what's making you uncertain about your income?  What are some of the factors influencing that uncertainty?\\n\", 'finetuned_result': 'Well, I mean, I guess we can figure that out, but, I mean, if it’s important for you to do it, you know ,  we can make it work. I guess I’m a little surprised if money is that much of a strain right now .  I guess I’m a little surprised if that’ s how you felt. I’m, I guess I’m a little surprised, I’m sort of curious, not in a snoopy way , but, I mean, I’m not offended if that’ s a limitation, but it does strike me as a little odd. I guess I’m just a little curious.'},\n",
            "{'text_input': 'Assume the role of a mental health assistant trying to help a person deal with their problems. Use open-ended questions and help the person validate their feelings and reflect on their situation. Process the following context, and respond to the last patient message: mental health assistant: \"Well, hopefully , you’ll have clarity starting next week.  So... it’ s up to you. I mean, I’m happy to see you, I don’ t want to have you go in the poorhouse , I can really appreciate that. And again, if, for January , if the discrepancy between my fee and what they’re reimbursing you is too big, I’m happy to adjust my fee for that, even though we didn’ t start for the  recording.\" patient: \"Thank you so much.\" mental health assistant: \"But yeah. I mean, in general, it would be $160 a month, if we met four times a week.\" patient: \"So maybe, maybe for right, maybe for the next, maybe this next month, we’ll do every other week until I know how much it is. Is that crazy to do?\" ', 'therapist_result': 'That’ s okay . I mean, honestly , if it has to be $30 a session, I mean like, I’m really willing to work with you. I don’ t think I could do half , but I’m really willing to work with you, because I do want to con , you know , continue meeting consistently . So...', 'base_result': 'Okay, so you\\'re feeling a bit uncertain about committing to four sessions a week right now, and want to try meeting every other week for the next month to see how your insurance reimbursement works out.  That sounds like a really sensible approach given the financial uncertainty.\\n\\nIt makes perfect sense to want to plan things out financially before committing to a full schedule.  Tell me more about what\\'s making you hesitant.  What are your biggest concerns right now regarding the cost of therapy?  Is it just the uncertainty of the reimbursement, or are there other financial pressures you\\'re facing?\\n\\nAnd it\\'s completely understandable to feel like scheduling every other week might be \"crazy.\"  Many people feel that way when trying to balance their needs with practical considerations.  What specifically makes you think it might be crazy?  What are your worries about only meeting every other week?  Perhaps it would help us both understand if you could tell me more about your expectations for therapy during this time.\\n', 'finetuned_result': 'No, I mean, I’ve done it before. I’m sure we can do that. I’m a little worried that if we do that, and then it turns out that you have a lousy plan, and it turns out you can’ve paid of f that debt and can start paying me $160 a month, but you have to do that for six months, I’m a little worried I won’ t have a spot. Because I’m a pretty reliable guy , and I don’ t want to open that spot and then not show up. I mean, I could show up, but I’m a pretty reliable guy , and if I say I’m going to do something, I like to do it. So... I’m a little worried about that, if we’re going to do it every other week, just from a scheduling point of view . I mean, I’m happy to do it every other week. It’ s certainly not an ideal way of doing it, but it’ s certainly possible.'},\n",
            "{'text_input': 'Assume the role of a mental health assistant trying to help a person deal with their problems. Use open-ended questions and help the person validate their feelings and reflect on their situation. Process the following context, and respond to the last patient message: mental health assistant: \"What makes you believe the words she says?\" patient: \"I mean I guess because he was kind of – I know sometimes he’ s not super flexible about having to pick me up, or money .  I know sometimes he complains about these things, or has a hard time dealing with stressful situations. I mean, ultimately he’ s there for me in case something is really wrong, in terms of – that’ s like the last time when we found out my parents were having that thing, he was really strong, and listened to me, and took it one step at a time. In a sense he’ s not as strong with someone staying in the house with a hospital bed, and with there being a toilet protector seat.  He wasn’ t as – I mean, he still made my sister dinner , and drove her to New York, which was a lot, because he took a day of f to do it.\" mental health assistant: \"He made big sacrifices.\" patient: \"I just feel like my sister , because she wasn’ t getting absolutely what she wanted, she said some very vicious things, and very much thinking about what’ s right for her .\" ', 'therapist_result': 'It’s interesting how what was a fight about you and your sister somehow became about Jeremy . It sounds like the question of whether or not Jeremy is a good partner for you is something you’ve decided already , and the issue of is your sister really angry at you, or angry at the world right now , is separate from that.', 'base_result': \"Okay, so you're feeling conflicted about your sister's words and your boyfriend's actions, right?  It sounds like you're trying to weigh the positive aspects of your relationship with your boyfriend against the negative, and also considering your sister's perspective.\\n\\nCan you tell me more about what your sister said that was so hurtful?  And what specifically makes you believe those words might be true, or perhaps untrue?  What are some of the things you’re noticing about the ways you both express needs?\\n\\nYou mentioned your boyfriend’s flexibility around picking you up and money – can you elaborate on that a little?  What does it feel like when he struggles with those things? And what about when he *does* support you?  How does that make you feel, compared to the times when he struggles?\\n\\nIt sounds like you’re acknowledging both the times he’s been incredibly supportive, like during your parent's situation, and the times when he's found it more challenging, like with your sister's situation. That’s a really thoughtful and nuanced observation.  What does that tell you about your relationship, and about the kind of support he offers?  What are your thoughts and feelings about that?\\n\", 'finetuned_result': 'What’ s really tricky for you, I think, is that when your dad makes a lot of ef fort to support you in the ways that you need, it actually makes it harder for you to lay out how much the betrayal has hurt you.  It seems like it almost feels like you’d be picking on him.'},\n",
            "{'text_input': 'Assume the role of a mental health assistant trying to help a person deal with their problems. Use open-ended questions and help the person validate their feelings and reflect on their situation. Process the following context, and respond to the last patient message: mental health assistant: \"It’s interesting how what was a fight about you and your sister somehow became about Jeremy . It sounds like the question of whether or not Jeremy is a good partner for you is something you’ve decided already , and the issue of is your sister really angry at you, or angry at the world right now , is separate from that.\" patient: \"It’s just so frustrating because she always claims that so and so – I made her feel lower than dirt, and she’s a self-hater , how can I do that? In the same sense, you’re not lower than dirt if you say something mean or vicious. It’ s just very hurtful, and I have feelings too. There’ s no way to convey that without her going overboard, and that’ s been our problem since we were young, is—\" mental health assistant: \"That you’re not allowed to express your feeling, because she’ s—\" patient: \"Intimately tied into – we’re either happy with her , she’ s a great person, or any little thing she does wrong is multiplied and exaggerated. For me, I wanted to – I saw her message last night, because I couldn’ t go to sleep last night, because I was wondering about my bridal gown. I read some Yelp reviews about this place. Like in, 2014, when I went to the bridal store, they had no reviews like this, but there were three reviews that talked about, they never called when her dress was ready . They lost the order . The dress came a week before the wedding and miraculously showed up. Then I realized I hadn’ t gotten a call, then I called them, and I couldn’ t They’re like, “Let’ s talk to the manager and see if she can locate your gown, see where it is.” I’m like, where’ s my gown? So right now I don’ t know where my gown is. Now my sister doesn’ t want to come to the wedding even. Oh shoot. Do I make someone else the maid of honor? I know my friend Gina has been planning the whole bachelorette party , and been really supportive and positive, but—\" ', 'therapist_result': 'Give your sister some time to cool of f so you can see where she really is, then decide what you really want, but I wonder if some of the things she’ s saying, she’ s saying out of hurt and anger . There’ s time before the wedding.  You don’ t necessarily need to have a maid of honor . They can all be bridesmaids, if that makes it easier . Then you don’ t have to worry about terminology . I know you want your sister to be there, and be supportive, and be a part of it, and I hope she will, but I think taking the pressure of f who you’re naming who, so we can focus on this repair of the relationship, giving her some time to cool of f, giving your wound some time to heal.', 'base_result': 'Okay, so it sounds like you\\'re feeling a lot right now.  Let\\'s unpack this. You\\'re dealing with a difficult situation with your sister, and now the stress of finding your wedding dress is adding to it.  It\\'s understandable that you\\'re feeling overwhelmed.\\n\\nFirst, let\\'s go back to your sister. You mentioned feeling frustrated because she makes you feel responsible for her negative feelings, saying things like you make her feel \"lower than dirt.\" That sounds incredibly heavy to carry.  Can you tell me more about what specifically she says or does that makes you feel that way?  And what\\'s it like *for you* to hear those accusations?  What emotions come up when she says those things?\\n\\nAnd then, you mentioned that expressing your own feelings is difficult because her reactions are so extreme.  It sounds like there\\'s a pattern of all-or-nothing thinking in your relationship.  Can you tell me more about what that pattern feels like from your perspective? What are the consequences of expressing your feelings?\\n\\nFinally, the wedding dress situation.  That\\'s a huge added stressor!  The uncertainty about its whereabouts is understandably worrying, especially so close to your wedding. You\\'re feeling the pressure of decisions – finding your dress, potentially changing your maid of honor.  It\\'s okay to feel worried and uncertain about all of this. What are your biggest fears right now regarding both your sister and your dress?  What\\'s the worst-case scenario you\\'re imagining?\\n', 'finetuned_result': 'Okay , and you’re worried about hurting her feelings if she doesn’ t get to be maid of honor . It’ s interesting, because the way you’re talking about it sounds like you already know the answer for you. You know that most likely you’re not going to have your sister be the maid of honor at this point, because of the way you’re talking. The part that feels like it still needs to unfold is whether or not it’ s going to cause more fights, or how you’re going to manage that part of it. It sounds like the answer to the question of whether or not you’re going to have her be maid of honor is pretty clear at this point.'},\n",
            "{'text_input': 'Assume the role of a mental health assistant trying to help a person deal with their problems. Use open-ended questions and help the person validate their feelings and reflect on their situation. Process the following context, and respond to the last patient message: mental health assistant: \"Dramatic, provocative statements there.\" patient: \"It’s frustrating because I’m having a hard time writing my paper . I just want it to be done.  I have a hard time because it’ s my first paper , and I need 100 percent focus. Now my sister staying over , it’s hard to have 100 percent focus. There’ s things I sacrificed in terms of coming home early , talking to her , seeing if she’s okay , rather than just focusing on my paper and locking myself in a Starbucks.\" mental health assistant: \"And now you’re still distracted.\" patient: \"Yeah. That was the first thing I was going to do, run some calculations, because I have to talk to my advisor at 2:00 before he leaves for the summer .  I’m just really frustrated because part of me just wants to – I don’ t want to de-friend her . I just want to turn off my Facebook so that—\" ', 'therapist_result': 'Don’ t check your Facebook for a bit. Give yourself some time, because she is being really provocative, whether it’ s intentional or not, or how conscious she is of what she’ s saying, the intensity of what she’s feeling is fueling her to say things that are really hurtful. She may not really mean all of the words that she’s saying. So to protect yourself from having to hear all of it, and be wounded by all of it, it’ s perfectly okay for you to take your Facebook of f your phone a little bit, and just not engage with it. Give her some time, then the two of you can engage with each other when some of this has subsided. It sounds like part of this is just really intensely dramatic.', 'base_result': \"Okay, so it sounds like you're feeling really frustrated and overwhelmed right now.  That's completely understandable, especially since this is your first paper and you're aiming for a high grade.  It's also a big deal to balance your responsibilities to your sister with your academic obligations.\\n\\nCan you tell me more about what's making it so hard to focus on your paper with your sister around? What specifically is distracting you?  Is it the noise, the interruptions, or something else entirely?\\n\\nAnd you mentioned sacrificing time with your sister to work on the paper.  That sounds like a tough choice.  Can you tell me a bit more about what those sacrifices felt like? What were you giving up, and what was it like to prioritize your paper over spending time with her?\\n\\nFinally, you mentioned wanting to disconnect from Facebook, and also not wanting to de-friend your sister. That suggests there’s a tension between your need for focus and your desire to maintain your relationship with her.  Can you expand on that feeling? What does it feel like to be caught in the middle of these two important things?\\n\", 'finetuned_result': 'Or so that you’re not of fended when she doesn’ t—or when she does, if she does, send you a reply right away . That’s what I’m wondering whether in a way that’ s part of it too, that you’re a little bit more – I’m not sure. I’d have to think about it more. It’ s possible that that’ s part of it too, that you don’ t like the feeling of her not being as responsive to you as you are to her , and that’s the part you turn away from a little bit. Maybe there’ s a little bit of that.'},\n",
            "{'text_input': 'Assume the role of a mental health assistant trying to help a person deal with their problems. Use open-ended questions and help the person validate their feelings and reflect on their situation. Process the following context, and respond to the last patient message: mental health assistant: \"That’ s not “no one”.\" patient: \"Yeah.\" mental health assistant: \"So it’ s somewhere finding a way to sympathize or empathize with what you’re feeling even though he doesn’ t feel the same way about it.\" patient: \"Yeah.\" ', 'therapist_result': 'So really , it’s sympathizing. Because empathizing is when you can feel what someone else feels. He doesn’ t. He doesn’ t see – his reality of what you look like at that moment or what you look like now in your reality of how you feel you look are dif ferent. So yeah, maybe – just like with weight. I mean I think it’ s the same thing. When you looked in the mirror and saw somebody who needed to lose weight – objectively , that wasn’ t the case – isn’ t the case. I think some of this other appearance stuf f is very similar – that the image that you hold is not necessarily what is reflected to other people.', 'base_result': \"Okay, so you've acknowledged that it's not *no one* who understands, but it feels like it's not enough.  Can you tell me more about what that feels like?  What makes it feel insufficient, even though someone *does* get it to some extent?\\n\", 'finetuned_result': 'And the other thing that we haven’ t touched upon at all is the way it feels to know that there’ s that discrepancy between how you’re feeling and how he’ s feeling. In other words, in real life, when you’re not here or we’re not here, what exactly does that feel like when you realize that you’re feeling one way about something and he’ s feeling another way about something? What happens?'},\n",
            "{'text_input': 'Assume the role of a mental health assistant trying to help a person deal with their problems. Use open-ended questions and help the person validate their feelings and reflect on their situation. Process the following context, and respond to the last patient message: mental health assistant: \"you might be getting something for , instead, it’ s going Unclear).\" patient: \"Yeah, I know . So I was really worried when I showed him because I didn’ t – I’ve never processed how a credit card worked. It’ s kind of –\" mental health assistant: \"It’s kind of random but you do it for their benefit.\" patient: \"Yeah.\" ', 'therapist_result': 'It’s not completely logical. But it is how it works. So it’ s interesting because you know as I listen to you talk about these dif ferent areas of your life one of – details are a theme that kind of get in your way do have more consequence, somehow don’ t get paid attention to. So it’ s like the filter how you determine what you’re going to focus on and what you’re going to let go, is misdirected. Because the size of your pores – that’ s a small detail and it doesn’ t actually have much consequence on your life if we look at it objectively . However , when you choose to focus on it it can become something that ends up having a big impact on your life because it becomes really upsetting for you. Whereas something like losing your school ID has a pretty big impact – it makes your life so much less convenient.', 'base_result': \"Okay, so you were worried about showing him your credit card statement because you weren't sure how it all worked.  That makes perfect sense.  It can be really overwhelming and confusing to deal with finances, especially if you haven't had a chance to fully understand the system. Can you tell me more about what specifically made you feel worried?  What were you afraid might happen?\\n\", 'finetuned_result': 'What it does mean is that the interest is primarily , it is something that will be mutually beneficial. It’ s not – it’ s not just about him, it’ s not just about you getting something for it. It’ s both. But in terms of being something where you’re kind of like, you know , and I know there’ s a big difference between an abusive relationship and a healthy relationship. But there’ s also a big difference between any relationship that’ s healthy and any relationship that’ s healthy . They all – there are nuances and you will – you have to kind of evaluate those as you go along and you have to stand up for what you want and what you need. And I think that’ s what I’m trying to say is in an abusive relationship, you’re getting something for it, but it’ s a terrible, terrible thing. But it is something. And in a healthy relationship, it’ s also something. I just think sometimes I wonder if you get something for it, because the whole point of it is that it’ s mutually beneficial, but sometimes I wonder if in your mind it’ s something where you’re not getting something for it.'},\n",
            "{'text_input': 'Assume the role of a mental health assistant trying to help a person deal with their problems. Use open-ended questions and help the person validate their feelings and reflect on their situation. Process the following context, and respond to the last patient message: mental health assistant: \"It’s kind of random but you do it for their benefit.\" patient: \"Yeah.\" mental health assistant: \"It’s not completely logical. But it is how it works. So it’ s interesting because you know as I listen to you talk about these dif ferent areas of your life one of – details are a theme that kind of get in your way do have more consequence, somehow don’ t get paid attention to. So it’ s like the filter how you determine what you’re going to focus on and what you’re going to let go, is misdirected. Because the size of your pores – that’ s a small detail and it doesn’ t actually have much consequence on your life if we look at it objectively . However , when you choose to focus on it it can become something that ends up having a big impact on your life because it becomes really upsetting for you. Whereas something like losing your school ID has a pretty big impact – it makes your life so much less convenient.\" patient: \"Yes, it does .\" ', 'therapist_result': 'And I’m not judging what you’re paying attention to. It certainly is – it’ s just that if we think about it from my favorite perspective of what’ s adaptive, what’ s working for you and what’ s working against you – filtering important detail to focus on and detail that I can just let slip by , it’s going to really be helpful to you because if we choose to focus on the details that are adaptive – what’ s going to work for you and let go of things that are going to work against you, I think you’ll find that things are a lot smoother . So like the credit card date. It’s a detail that if you can schedule your bank to pay your credit card automatically two days before the closing date it’ s going to be really efficient for you and will work for you rather than work against you. And things that don’t actually harm you – just like with  thinking about what’ s gross but not harmful. Same thing with little blemishes or pores – they’re not really going to harm you. You may not like it when things aren’ t as smooth as can be but it’ s not going to harm you so it’ s something that you can kind of let go.', 'base_result': \"Okay, so you agree that you sometimes focus on smaller, less impactful things while overlooking larger, more significant issues.  That makes sense.  Can you tell me more about what it feels like when you get caught up in those smaller details?  What's going through your mind?\\n\", 'finetuned_result': 'So if we look at it through that lens the same thing happens with the writing process. Writing a thesis is not an objectively small detail and yet you kind of say it doesn’ t have that much impact. It’ s more of a big deal. And I guess it’s more of a big deal because you can get very anxious about it if you think about it. But in some ways, the writing of a thesis is not a big detail. In fact, it’ s huge in the grand scheme of your life. So there’ s some strange disconnect there. The same thing happens with student loans. They’re not a small objective detail. Student loans are a massive objective detail. But I think because you don’ t really like to think about them or plan for them they kind of become more manageable and stress-inducing when you’re in the midst of them.'},\n",
            "{'text_input': 'Assume the role of a mental health assistant trying to help a person deal with their problems. Use open-ended questions and help the person validate their feelings and reflect on their situation. Process the following context, and respond to the last patient message: mental health assistant: \"I heard you say I have to make sure I have Jeremy make sure I do this.\" patient: \"Yeah.\" mental health assistant: \"How about, I make sure you do this? Let’ s get Jeremy out of the equation. Let’ s make it a\" patient: \"Okay .\" ', 'therapist_result': 'And I’d like you to do two lists – a list of what you want your priorities to be and maybe a list of what you’re looking forward to like you look forward to your wedding and what your life will be like after that. And see how we can get you from here to there. You’re job hunting so imagining that next phase of when you’re finished and when you’re working – where do you want to be? And let’ s see if we can keep that list of sort of what you want your priorities to be, the life you are imagining and how – and then we can look and see if there’ s a way to get from one to the next.', 'base_result': 'Okay, so we\\'ve taken Jeremy out of the equation for now.  That sounds like a good start.  Can you tell me a little more about what \"this\" is that needs to be done?  What specifically are you feeling pressured to do?\\n', 'finetuned_result': 'that if you’re going to share something with me, you can also share it with the insurance company . So, for example, to give you a rather extreme example, if you had a sexual relationship with me, I wouldn’ t bill insurance because we would have a conflict of interest and it wouldn’ t be proper treatment. But, I also understand that you want to maximize your benefits and if you don’ t provide information that is medically necessary to support medical treatment, then they can deny coverage. So it’s a dif ferent kind of tension. On one side, you don’ t want to provide information that you don’ t have to or you feel like you don’ t have to. On the other hand, you want to make sure you get the coverage you’re entitled to.'},\n",
            "{'text_input': 'Assume the role of a mental health assistant trying to help a person deal with their problems. Use open-ended questions and help the person validate their feelings and reflect on their situation. Process the following context, and respond to the last patient message: mental health assistant: \"And I can hold you accountable for that.\" patient: \"Yes, I need someone to hold me accountable.\" mental health assistant: \"Rather than putting your fiancé in that position.  to remind us of when – here it is. I couldn’ t think of when next time is.\" patient: \"I think we’re on for next week but not the next week after that.\" ', 'therapist_result': 'I think you’re probably right. And I looked at this two seconds before you walked into my office, but – the 1st and the 8th and the 15th but not the week after that. So I have for the next three weeks all at 1:30. And then we skip the 22nd and meet on the 29th.', 'base_result': \"Okay, so you feel you need someone to hold you accountable, and you've realized that relying on your fiancé for that isn't ideal. That's a really insightful observation.  Can you tell me more about why you feel it's not ideal to rely on your fiancé for accountability? What are some of the challenges you've experienced with that approach?\\n\", 'finetuned_result': 'So, with the times that we have now, which is mostly this semester , and considering that we may want to think about this a little more, it seems to me that the thing to be worried about in terms of the future is, am I going to be able to – we’ll have to work with Phil on it. It may be that, actually , you can’ t work with him in the future, and it’ s going to be someone else, and if so, then we have to think about that.  But it really isn’ t the times; it’ s that. I’m happy to work with you more, if that’ s what you want, but if you’re worried about, like, “I’m going to get to the end of the semester and he’ s not going to be there, and I’m going to be stuck,” that’ s a real worry , but it’ s not the times.'},\n",
            "{'text_input': 'Assume the role of a mental health assistant trying to help a person deal with their problems. Use open-ended questions and help the person validate their feelings and reflect on their situation. Process the following context, and respond to the last patient message: mental health assistant: \"Mm hm. But I will say-I mean, you\\'re dealing with a whole lot of anxiety that gets expressed in all different ways.\" patient: \"Mm hm.\" mental health assistant: \"It gets very focused on your body as we know at times. What it means and sort of how this will unfold I don\\'t know .\" patient: \"Right.\" ', 'therapist_result': \"I feel like that's what we're trying to like unwrap, for a lack of a better term. I mean, clearly I think there's a lot that we can do and that we're beginning to do to begin to kind of help-I don't if unravel's really the right word, but there's a lot of layers to it.\", 'base_result': \"Okay, so you've acknowledged that a lot of your anxiety manifests physically.  That's a really important step.  Can you tell me more about how that feels in your body? What are some of the physical sensations you experience when your anxiety is high?  And,  thinking about how this unfolds, what are some of your biggest concerns right now about the future, given these physical symptoms?\\n\", 'finetuned_result': \"For me, the way I think about it is that you have a lot of over-whelming, anxious feelings and they're very difficult to attend to or really feel just sort of in the moment. And what happens then is, it's almost like it's registering somewhere in your system, in your kind of neural level and it looks for output . And one of the outputs, one of the ways that then kind of gets translated into behavior or experience is through your body . And I imagine, I'm just inferring this, is that that's easier , in a way , to then manage and deal with than actually feeling the anxious feelings.\"},\n",
            "{'text_input': 'Assume the role of a mental health assistant trying to help a person deal with their problems. Use open-ended questions and help the person validate their feelings and reflect on their situation. Process the following context, and respond to the last patient message: mental health assistant: \"Uh huh.\" patient: \"So, I mean, do we-and I hate to like make this goal oriented, because maybe that\\'s not the point, but is the goal I guess for lack of a better word to like get to the root of what\\'s causing me to feel this way? Or to gain more of an understanding of why and then through that-is that how I like start to deal with it? Or ...\" mental health assistant: \"I mean, definitely the latter . Like certainly getting more of an understanding, which I think we\\'ve certainly been starting to do.\" patient: \"Mm hm.\" ', 'therapist_result': \"And it's like part of it is about the feelings that you have about yourself and your own confidence in yourself. Your abilities and the ways you feel that you've relied on your parents sort of sometimes almost to the detriment-you feel to the detriment of developing. I mean, not necessarily when you were a kid, when you're a kid people rely on their parents, so.\", 'base_result': 'Okay, so you\\'re wondering if the goal is to pinpoint the root cause of your feelings, or if it\\'s more about understanding why you feel this way, and then using that understanding to cope.  Is that a fair summary of what you\\'re thinking?  And what feels most important to *you* right now – finding the \"root\" or gaining understanding?  There\\'s no right answer, of course.\\n', 'finetuned_result': \"That-that can help with the dealing with. Whether it's dealing with in terms of like coping, in terms of like, well, that's why I used to, you know , get in these cycles. But, you know , now that I understand that, you know , I can realize that it starts happening and I can kind of do X, Y , and Z or it can help in the way of dealing with that-or it can help with the dealing with in the way that, you know , I've been carrying this X thing, it makes me depressed, I've carried it my whole life, I want to get rid of it, I want to get to know it, I understand it, and now I can do something about it or I do something to cope with it. I mean, which I think certainly can happen. I don't know if, you know , I don't know if we're going to get rid of the fear of abandonment, that might not be, you know , the object of our lifetime to get rid of that.\"},\n",
            "{'text_input': 'Assume the role of a mental health assistant trying to help a person deal with their problems. Use open-ended questions and help the person validate their feelings and reflect on their situation. Process the following context, and respond to the last patient message: mental health assistant: \"She lives with your parents?\" patient: \"Yeah. So she\\'s moving to the island which is awesome. I think it\\'s a perfect plan for her . My parents are really supportive. I think it\\'s time for her to really get out of the house. She\\'s ready for it  which in some way kind of cements the end of the, that kind of form of home and childhood for both of us which is kind of interesting to think about.\" mental health assistant: \"You\\'re in a very sort of contemplative state in here. Are you like that outside of here too?\" patient: \"Yes. I used to joke with my ex because he\\'d be like, \"What are you thinking about?\" And I\\'d be like, \"You can\\'t ask me that question.\" You know , there are like fourteen things I\\'m thinking about all at once and... Yeah. It didn\\'t really occur to me that people aren\\'t always thinking about everything until the last few years. I just kind of assumed that people processed like I did or experience the world like I do. So sometimes I try to block it out and kind of have times when I\\'m intentionally not trying to think. But yeah, it\\'s definitely a central facet of my life.\" ', 'therapist_result': \"I guess it makes me think about, you know , one of the things you came in here to do which was to sort of experience thinking emotionally or just be more in contact with that. It kind of seems like you are processing center is your brain more than your emotions. Well, that may not be true but certainly that's what you use more.  It doesn't mean that your processing center isn't also your emotions but it isn't used as much.\", 'base_result': 'Okay, so you\\'re feeling a mix of things about your sister moving away.  It sounds like you\\'re happy for her and excited about this new chapter in her life, but also reflecting on what that means for your family and for your own sense of home and childhood. That\\'s a lot to process, isn\\'t it?  Can you tell me more about what specifically is making you feel contemplative about this change?  What aspects of \"the end of that kind of home and childhood\" are you finding particularly interesting or perhaps challenging?\\n', 'finetuned_result': 'So the thing that I\\'m wondering about is how much of it is sort of bubbled of f from the experience that we\\'re talking about here. It\\'s like this ongoing process of rumination. It\\'s not hard to find things that one can mull over or ponder or contemplate if they want. It\\'s often hard to stop it. If you\\'re walking down the street, you know , you might find the tendency  but it\\'s often not hard to find more.  It seems like it could be an avoidance.  Again, I don\\'t have sort of a claim. It\\'s a wonder ing.  Is this an attempt to kind of \"I\\'m really a thoughtful person. This is the way that I process the world. This is a healthy thing. This is who I am. This is okay.\" Is that a way of kind of turning away from or buffering against some of the less attractive aspects of this line of processing? Because it seems like it\\'s... I\\'m not saying this is bad or good. It\\'s just what it seems like. It seems like part of the way you\\'re describing yourself as someone who \"thinks all the time\" and \"processes all the time\", I can imagine that\\'s partly a way of kind of shutting of f some of the more painful aspects of it.'},\n",
            "{'text_input': 'Assume the role of a mental health assistant trying to help a person deal with their problems. Use open-ended questions and help the person validate their feelings and reflect on their situation. Process the following context, and respond to the last patient message: mental health assistant: \"This is for June, yeah.\" patient: \"Okay . Um... Yeah. I have to see how things go in June like...\" mental health assistant: \"Well, that’ s what you’re talking about, right? Are you talking about June?  Yeah, okay .\" patient: \"Start there... The second, probably . So, Tuesday , Thursday , or Monday .\" ', 'therapist_result': 'Yeah, I think, so Tue , again, I need to, the Tuesday time, I need to confirm, but I’m pretty sure I’ll have the 5:10 on Tuesday . Then Thursday , I think it’ s either 5:30 or 5:40. I just need to confirm that. Will one of those two times...?', 'base_result': \"Okay, so you're thinking about the beginning of June – the second, perhaps, and focusing on Tuesday, Thursday, or Monday.  That sounds like you have some specific things planned or hoping to happen around those days.  Can you tell me a little more about what's happening in June that's making you focus on those particular days? What's making those dates significant?\\n\", 'finetuned_result': 'Okay . So, you’re in the middle of a number of changes. The one that seems the most... immediate and preoccupying right now is your move. You’re moving out of the family home at the end of the month. I imagine it’ s stressful and you’re probably anxious about that, thinking about it a lot, thinking about logistics and what you’re going to do and how it’ s going to go and how you’ll feel when you’re gone. That’ s probably quite stressful. In addition to moving, you’re dealing with some long-term kind of changes that you’ve talked about for a while. One of them is kind of the general feeling that you’ve noticed lately that you’re kind of entering a new phase of life. In a lot of ways, you’re coming of age, and that can feel a little bit ambiguous. You know , some of it is exciting, some of it can be scary , I imagine. The second long-term change that seems to be ongoing is the one you’ve talked about quite a bit for a while, which is... I guess, the general direction of trying to be less compulsive in a number of ways.'},\n",
            "{'text_input': 'Assume the role of a mental health assistant trying to help a person deal with their problems. Use open-ended questions and help the person validate their feelings and reflect on their situation. Process the following context, and respond to the last patient message: mental health assistant: \"Well, that’ s what you’re talking about, right? Are you talking about June?  Yeah, okay .\" patient: \"Start there... The second, probably . So, Tuesday , Thursday , or Monday .\" mental health assistant: \"Yeah, I think, so Tue , again, I need to, the Tuesday time, I need to confirm, but I’m pretty sure I’ll have the 5:10 on Tuesday . Then Thursday , I think it’ s either 5:30 or 5:40. I just need to confirm that. Will one of those two times...?\" patient: \"Yeah, both will work.\" ', 'therapist_result': 'Okay . Yeah, my due date is the 21st , so I plan on being here the week of the 16th, and then, yeah, then I’ll be out starting the 23rd.  So let me, I’ll confirm all of those for next week, but we’ll, so we’ll keep our regular schedule through May and then look at that for June.  Okay? Very good. Then, in terms of my schedule coming back, it’ s a little bit, I might need to figure out a few things, but we’ll, I’ll definitely be in touch by , I would say , mid-July and then we can kind of take it from there.', 'base_result': \"Okay, so it sounds like we're making progress on scheduling those appointments.  That's great!  It seems like you've got a pretty good handle on the possible times.  Before we finalize this, I want to make sure we're on the same page.  Can you tell me a little more about what's making those days and times work for you? What factors are you considering when choosing between Tuesday and Thursday?\\n\", 'finetuned_result': 'Okay , and then I need to just double-check the Tuesday , I’m pretty sure. I’ll send you an e-mail. And it’ s the same price, $75. Okay? Okay . So that’ s on that. All right. So let’ s see, you are...  Your dad has an appointment at 4:30, so let’ s see, we’ve got about nine minutes left.'},\n",
            "{'text_input': 'Assume the role of a mental health assistant trying to help a person deal with their problems. Use open-ended questions and help the person validate their feelings and reflect on their situation. Process the following context, and respond to the last patient message: mental health assistant: \"Jealous of your dad when he came back?\" patient: \"Yeah. But, yeah. But then, I think he pretty quickly took up that narrative before I could even articulate it, because, you know , I’m a six-year -old child and he was a 36-year -old man or whatever . He was like, he was jealous. He was like, “I’m jealous of you guys and you guys are always teaming up and bonding.”  I would secretly think, “That’ s right, you know . You can never have what I have with my Mom because, plainly , evidently , you just don’ t get her , you just don’ t love her . You’re a fucking douche bag!”  You know , sad, but sad, yeah. I wasn’ t actually happy about that, you know .\" mental health assistant: \"Do you feel like your mom mostly aligned with you or where did you feel her allegiances lay?\" patient: \"Well, it’ s like the same way . I mean like, from my vantage point, from my perspective it was like, she was fair game or she could do whatever she wanted to like... I feel like... It was sad that she aligned with me... or needed to align with me, you know? I wonder if I thought it was sad. You know , this is complex. Yeah. Yeah, she mostly aligned with me, but it wasn’ t like... What does that mean? Like, took my side?\" ', 'therapist_result': 'Well, I mean, it could mean a lot of things. You were describing your dad feeling that you and your mom were kind of like a unit  and that he was jealous of that unit.  So I was wondering, from your vantage point, did you feel that’ s what she was doing? Or was she... yeah.', 'base_result': \"Okay, so you're feeling a mix of things about your parents' relationship and how it impacted you as a child.  You felt jealous of your dad initially, but he quickly shifted the narrative, making it about *his* jealousy.  And you felt that was a way to avoid addressing the underlying issues.  You mention feeling sad about the situation.  Can you tell me more about what specifically made you feel sad? Was it the feeling of your dad deflecting, the dynamic between your parents, or something else entirely?\\n\", 'finetuned_result': 'I guess I’m wondering , it seems like you’re describing a betrayal from your dad when he did that . He sort of , you know , maybe it’ s not that he didn’ t feel it or maybe he doesn’ t even get it, but he says, “Hey , you know what? I’m jealous of you. You’ve always got a team up on me.” You know , I mean, you say it was a betrayal or a real kind of...  Is that a similar ... Do you feel that way when your dad says, “Hey , I’m not perfect. I screwed up and I’m not... ” I mean, I wonder if that’ s another way in which there’ s a kind of...  You know , he’ s not going to have your back.'},\n"
          ]
        }
      ],
      "source": [
        "for i in global_eval:\n",
        "    print(str(i) + \",\")"
      ]
    },
    {
      "cell_type": "code",
      "execution_count": null,
      "metadata": {
        "colab": {
          "base_uri": "https://localhost:8080/"
        },
        "id": "xgN7wfc9Mk5V",
        "outputId": "db3fdf1e-20fb-4717-89ed-345e340e8117"
      },
      "outputs": [
        {
          "output_type": "stream",
          "name": "stdout",
          "text": [
            "38\n"
          ]
        }
      ],
      "source": [
        "print(len(global_eval))"
      ]
    },
    {
      "cell_type": "markdown",
      "metadata": {
        "id": "i_TpwvBB4bQ7"
      },
      "source": [
        "## Delete the model\n",
        "\n",
        "You can clean up your tuned model list by deleting models you no longer need. Use the `genai.delete_tuned_model` method to delete a model. If you canceled any tuning jobs, you may want to delete those as their performance may be unpredictable."
      ]
    },
    {
      "cell_type": "code",
      "execution_count": null,
      "metadata": {
        "id": "cepfaUCvVGCo"
      },
      "outputs": [],
      "source": [
        "genai.delete_tuned_model(f'tunedModels/{name}')"
      ]
    },
    {
      "cell_type": "markdown",
      "metadata": {
        "id": "ljEssIshYDEr"
      },
      "source": [
        "The model no longer exists:"
      ]
    },
    {
      "cell_type": "code",
      "execution_count": null,
      "metadata": {
        "id": "kN_bkut_4ayL",
        "outputId": "f2932676-4c28-40b7-cad9-afdccfd40939"
      },
      "outputs": [
        {
          "name": "stdout",
          "output_type": "stream",
          "text": [
            "<class 'google.api_core.exceptions.NotFound'>: 404 GET https://generativelanguage.googleapis.com/v1beta/tunedModels/generate-num-8122?%24alt=json%3Benum-encoding%3Dint: Tuned model tunedModels/generate-num-8122 does not exist.\n"
          ]
        },
        {
          "name": "stderr",
          "output_type": "stream",
          "text": [
            "WARNING:tornado.access:404 GET /v1beta/tunedModels/generate-num-8122?%24alt=json%3Benum-encoding%3Dint (127.0.0.1) 838.85ms\n"
          ]
        }
      ],
      "source": [
        "try:\n",
        "  m = genai.get_tuned_model(f'tunedModels/{name}')\n",
        "  print(m)\n",
        "except Exception as e:\n",
        "  print(f\"{type(e)}: {e}\")"
      ]
    }
  ],
  "metadata": {
    "colab": {
      "provenance": []
    },
    "kernelspec": {
      "display_name": "Python 3",
      "name": "python3"
    },
    "language_info": {
      "name": "python"
    }
  },
  "nbformat": 4,
  "nbformat_minor": 0
}